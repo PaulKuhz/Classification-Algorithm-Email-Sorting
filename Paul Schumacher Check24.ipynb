{
 "cells": [
  {
   "cell_type": "markdown",
   "id": "f97332e9-3ac1-4559-9a4a-e098941fe374",
   "metadata": {},
   "source": [
    "# Challenge: Klassifikations-Algorithmus für E-Mail-Sortierung"
   ]
  },
  {
   "cell_type": "markdown",
   "id": "0142ed77-822c-40ad-a2aa-752d355869cb",
   "metadata": {},
   "source": [
    "Im vorliegenden Code versuche ich, verschiedene Klassifizierungsmethoden aus dem Machine Learning anzuwenden, um die manuelle Arbeit der Mitarbeiter beim Sortieren von E-Mails zu reduzieren. Zu Beginn werde ich die Daten reinigen und vorbereiten, bevor ich im zweiten Teil die Machine Learning-Methoden anwende und die Ergebnisse dann bewerte."
   ]
  },
  {
   "cell_type": "markdown",
   "id": "c9567b9d-fac6-4ef3-ae45-d25b3290b232",
   "metadata": {},
   "source": [
    "Ausgewählt habe ich den kleinem Auszug des Datensatzes (etwa 30MB, gezipped 7MB)."
   ]
  },
  {
   "cell_type": "markdown",
   "id": "36b086ee-061e-484b-bd36-06c0bd77995d",
   "metadata": {},
   "source": [
    "## I. Data Processing"
   ]
  },
  {
   "cell_type": "code",
   "execution_count": 409,
   "id": "22dfa4a8-cded-4903-b553-6faaadf76adc",
   "metadata": {},
   "outputs": [],
   "source": [
    "import multiprocessing\n",
    "import seaborn as sns\n",
    "import email\n",
    "import matplotlib.pyplot as plt\n",
    "import numpy as np\n",
    "import pandas as pd"
   ]
  },
  {
   "cell_type": "code",
   "execution_count": 411,
   "id": "f361395c-677d-471b-aa8d-f1515e8f8520",
   "metadata": {},
   "outputs": [
    {
     "data": {
      "text/html": [
       "<div>\n",
       "<style scoped>\n",
       "    .dataframe tbody tr th:only-of-type {\n",
       "        vertical-align: middle;\n",
       "    }\n",
       "\n",
       "    .dataframe tbody tr th {\n",
       "        vertical-align: top;\n",
       "    }\n",
       "\n",
       "    .dataframe thead th {\n",
       "        text-align: right;\n",
       "    }\n",
       "</style>\n",
       "<table border=\"1\" class=\"dataframe\">\n",
       "  <thead>\n",
       "    <tr style=\"text-align: right;\">\n",
       "      <th></th>\n",
       "      <th>file</th>\n",
       "      <th>message</th>\n",
       "    </tr>\n",
       "  </thead>\n",
       "  <tbody>\n",
       "    <tr>\n",
       "      <th>0</th>\n",
       "      <td>white-s/discussion_threads/3.</td>\n",
       "      <td>Message-ID: &lt;28919265.1075852042932.JavaMail.e...</td>\n",
       "    </tr>\n",
       "    <tr>\n",
       "      <th>1</th>\n",
       "      <td>white-s/discussion_threads/30.</td>\n",
       "      <td>Message-ID: &lt;28555804.1075852043600.JavaMail.e...</td>\n",
       "    </tr>\n",
       "    <tr>\n",
       "      <th>2</th>\n",
       "      <td>white-s/discussion_threads/31.</td>\n",
       "      <td>Message-ID: &lt;8369235.1075852043623.JavaMail.ev...</td>\n",
       "    </tr>\n",
       "    <tr>\n",
       "      <th>3</th>\n",
       "      <td>white-s/discussion_threads/32.</td>\n",
       "      <td>Message-ID: &lt;1562432.1075852043648.JavaMail.ev...</td>\n",
       "    </tr>\n",
       "    <tr>\n",
       "      <th>4</th>\n",
       "      <td>white-s/discussion_threads/33.</td>\n",
       "      <td>Message-ID: &lt;20239053.1075852043671.JavaMail.e...</td>\n",
       "    </tr>\n",
       "  </tbody>\n",
       "</table>\n",
       "</div>"
      ],
      "text/plain": [
       "                             file  \\\n",
       "0   white-s/discussion_threads/3.   \n",
       "1  white-s/discussion_threads/30.   \n",
       "2  white-s/discussion_threads/31.   \n",
       "3  white-s/discussion_threads/32.   \n",
       "4  white-s/discussion_threads/33.   \n",
       "\n",
       "                                             message  \n",
       "0  Message-ID: <28919265.1075852042932.JavaMail.e...  \n",
       "1  Message-ID: <28555804.1075852043600.JavaMail.e...  \n",
       "2  Message-ID: <8369235.1075852043623.JavaMail.ev...  \n",
       "3  Message-ID: <1562432.1075852043648.JavaMail.ev...  \n",
       "4  Message-ID: <20239053.1075852043671.JavaMail.e...  "
      ]
     },
     "execution_count": 411,
     "metadata": {},
     "output_type": "execute_result"
    }
   ],
   "source": [
    "# Load the CSV file\n",
    "df = pd.read_csv('emails30MB.csv')\n",
    "# Rename the columns\n",
    "df.columns = ['file', 'message']\n",
    "# Display the first few rows of the dataframe\n",
    "df.head()"
   ]
  },
  {
   "cell_type": "markdown",
   "id": "f269dbe7-744f-4757-b371-7269caf8c79d",
   "metadata": {},
   "source": [
    "#### Data Exploration"
   ]
  },
  {
   "cell_type": "code",
   "execution_count": 412,
   "id": "39458750-868a-40b7-83ed-d011d368f82a",
   "metadata": {},
   "outputs": [
    {
     "data": {
      "text/plain": [
       "(12274, 2)"
      ]
     },
     "execution_count": 412,
     "metadata": {},
     "output_type": "execute_result"
    }
   ],
   "source": [
    "df.shape"
   ]
  },
  {
   "cell_type": "code",
   "execution_count": 415,
   "id": "b6a25f47-22be-4f26-8a6c-8a2d2ba3c72f",
   "metadata": {},
   "outputs": [
    {
     "name": "stdout",
     "output_type": "stream",
     "text": [
      "Message-ID: <28555804.1075852043600.JavaMail.evans@thyme>\n",
      "Date: Mon, 18 Dec 2000 10:15:00 -0800 (PST)\n",
      "From: rhonda.denton@enron.com\n",
      "To: stacey.white@enron.com\n",
      "Subject: Name Change-BP Energy Company\n",
      "Mime-Version: 1.0\n",
      "Content-Type: text/plain; charset=us-ascii\n",
      "Content-Transfer-Encoding: 7bit\n",
      "X-From: Rhonda L Denton\n",
      "X-To: Stacey W White\n",
      "X-cc: \n",
      "X-bcc: \n",
      "X-Folder: \\Sally_White_Nov2001\\Notes Folders\\Discussion threads\n",
      "X-Origin: WHITE-S\n",
      "X-FileName: swhite.nsf\n",
      "\n",
      "---------------------- Forwarded by Rhonda L Denton/HOU/ECT on 12/18/2000 \n",
      "06:18 PM ---------------------------\n",
      "\n",
      "\n",
      "Rhonda L Denton\n",
      "09/18/2000 02:00 PM\n",
      "To: Tim Belden/HOU/ECT@ECT, Dana Davis/HOU/ECT@ECT, Genia \n",
      "FitzGerald/HOU/ECT@ECT, Jeffrey T Hodge/HOU/ECT@ECT, Melissa Ann \n",
      "Murphy/HOU/ECT@ECT, Kyle Schultz/HOU/ECT@ECT, Kim S Theriot/HOU/ECT@ECT, \n",
      "Christi L Nicolay/HOU/ECT@ECT, Leslie Reeves/HOU/ECT@ECT, John \n",
      "Berger/HOU/ECT@ECT, Tracy Ngo/HOU/ECT@ECT, Gretchen Lotz/HOU/ECT@ECT, Dean \n",
      "Laurent/HOU/ECT@ECT, John D Suarez/HOU/ECT@ECT, Cara Semperger/PDX/ECT@ECT, \n",
      "Christian Yoder/HOU/ECT@ECT, Jan M King/HOU/ECT@ECT, Mike \n",
      "Swerzbin/HOU/ECT@ECT, Mary Hain/HOU/ECT@ECT, Michael Etringer/HOU/ECT@ECT, \n",
      "John Malowney/HOU/ECT@ECT, Elizabeth Sager/HOU/ECT@ECT, Laura \n",
      "Jones/HOU/ECT@ECT, Cyril Price/HOU/ECT@ECT, James E Terrell/HOU/ECT@ECT, \n",
      "Corry Bentley/HOU/ECT@ECT, Matt Lorenz/HOU/ECT@ECT, Thresa A \n",
      "Allen/HOU/ECT@ECT, David Portz/HOU/ECT@ECT, Sharen Cason/HOU/ECT@ECT, \n",
      "Veronica Gonzalez/HOU/ECT@ECT, Kimberly Allen/HOU/ECT@ECT, Amy \n",
      "Degeyter/HOU/ECT@ECT, William S Bradford/HOU/ECT@ECT, Debbie R \n",
      "Brackett/HOU/ECT@ECT, Christopher Smith/HOU/ECT@ECT, Brant Reves/HOU/ECT@ECT, \n",
      "Russell Diamond/HOU/ECT@ECT, John Suttle/HOU/ECT@ECT, Tanya \n",
      "Rohauer/HOU/ECT@ECT, Rod Nelson/HOU/ECT@ECT, Stephanie Piwetz/HOU/ECT@ECT, \n",
      "Leslie Hansen/HOU/ECT@ECT, Russell T Kelley/HOU/ECT@ECT, Stewart \n",
      "Rosman/HOU/ECT@ECT, Holli Krebs/HOU/ECT@ECT, Paul Choi/SF/ECT@ECT, Chris H \n",
      "Foster/HOU/ECT@ECT, Sean Crandall/PDX/ECT@ECT, Diana Scholtes/HOU/ECT@ECT, \n",
      "Paul Mead/PDX/ECT@ECT, Jeff Richter/HOU/ECT@ECT, Phillip Platter/HOU/ECT@ECT, \n",
      "Smith L Day/HOU/ECT@ECT, Robert Badeer/HOU/ECT@ECT, D Brett \n",
      "Hunsucker/HOU/ECT@ECT, Kim Ward/HOU/ECT@ECT, John M Forney/HOU/ECT@ECT, \n",
      "Edward D Baughman/HOU/ECT@ECT, Kayne Coulter/HOU/ECT@ECT, Alonzo \n",
      "Williams/HOU/ECT@ECT, John Kinser/HOU/ECT@ECT, Robert \n",
      "Benson/Corp/Enron@Enron, Larry Valderrama/HOU/ECT@ECT, Paul J \n",
      "Broderick/HOU/ECT@ECT, Edward Sacks/Corp/Enron@Enron, Janet H \n",
      "Moore/HOU/ECT@ECT, Janice R Moore/HOU/ECT@ECT, Shari Stack/HOU/ECT@ECT, Kevin \n",
      "M Presto/HOU/ECT@ECT, Rogers Herndon/HOU/ECT@ect, Jesse Bryson/HOU/ECT@ECT, \n",
      "Stanley Cocke/PDX/ECT@ECT, Michael M Driscoll/PDX/ECT@ECT, Brian \n",
      "Robinhold/PDX/ECT@ECT, Doug Gilbert-Smith/Corp/Enron@ENRON, Kimberly \n",
      "Hundl/Corp/Enron@Enron, Joy Werner/Corp/Enron@ENRON, Elsie Lew/HOU/ECT@ECT, \n",
      "Dan Houston/Corp/Enron@Enron, Amy Horton/Corp/Enron@ENRON, Kim \n",
      "Durham/HOU/ECT@ECT, Theresa R Kotrla/HOU/ECT@ECT\n",
      "cc:  \n",
      "Subject: Name Change-BP Energy Company\n",
      "\n",
      "Please note the following changes:\n",
      "Amoco Energy Trading Corporation (Amoco)\n",
      "Is now\n",
      "BP Energy Company\n",
      "\n",
      "\n"
     ]
    }
   ],
   "source": [
    "print(df.loc[1]['message'])"
   ]
  },
  {
   "cell_type": "code",
   "execution_count": 417,
   "id": "d1de32c9-4a3d-4ac3-882d-cc5fd2472fce",
   "metadata": {},
   "outputs": [
    {
     "data": {
      "text/plain": [
       "[('Message-ID', '<28555804.1075852043600.JavaMail.evans@thyme>'),\n",
       " ('Date', 'Mon, 18 Dec 2000 10:15:00 -0800 (PST)'),\n",
       " ('From', 'rhonda.denton@enron.com'),\n",
       " ('To', 'stacey.white@enron.com'),\n",
       " ('Subject', 'Name Change-BP Energy Company'),\n",
       " ('Mime-Version', '1.0'),\n",
       " ('Content-Type', 'text/plain; charset=us-ascii'),\n",
       " ('Content-Transfer-Encoding', '7bit'),\n",
       " ('X-From', 'Rhonda L Denton'),\n",
       " ('X-To', 'Stacey W White'),\n",
       " ('X-cc', ''),\n",
       " ('X-bcc', ''),\n",
       " ('X-Folder', '\\\\Sally_White_Nov2001\\\\Notes Folders\\\\Discussion threads'),\n",
       " ('X-Origin', 'WHITE-S'),\n",
       " ('X-FileName', 'swhite.nsf')]"
      ]
     },
     "execution_count": 417,
     "metadata": {},
     "output_type": "execute_result"
    }
   ],
   "source": [
    "message = df.loc[1]['message']\n",
    "e = email.message_from_string(message)\n",
    "\n",
    "e.items()"
   ]
  },
  {
   "cell_type": "code",
   "execution_count": 419,
   "id": "b43f2d45-f244-4cf8-8dc5-d6e4b2e160f8",
   "metadata": {},
   "outputs": [
    {
     "data": {
      "text/plain": [
       "'Mon, 18 Dec 2000 10:15:00 -0800 (PST)'"
      ]
     },
     "execution_count": 419,
     "metadata": {},
     "output_type": "execute_result"
    }
   ],
   "source": [
    "e.get('Date')"
   ]
  },
  {
   "cell_type": "code",
   "execution_count": 421,
   "id": "13dd4821-ed78-4f79-8804-f16451acbe60",
   "metadata": {},
   "outputs": [
    {
     "data": {
      "text/plain": [
       "'---------------------- Forwarded by Rhonda L Denton/HOU/ECT on 12/18/2000 \\n06:18 PM ---------------------------\\n\\n\\nRhonda L Denton\\n09/18/2000 02:00 PM\\nTo: Tim Belden/HOU/ECT@ECT, Dana Davis/HOU/ECT@ECT, Genia \\nFitzGerald/HOU/ECT@ECT, Jeffrey T Hodge/HOU/ECT@ECT, Melissa Ann \\nMurphy/HOU/ECT@ECT, Kyle Schultz/HOU/ECT@ECT, Kim S Theriot/HOU/ECT@ECT, \\nChristi L Nicolay/HOU/ECT@ECT, Leslie Reeves/HOU/ECT@ECT, John \\nBerger/HOU/ECT@ECT, Tracy Ngo/HOU/ECT@ECT, Gretchen Lotz/HOU/ECT@ECT, Dean \\nLaurent/HOU/ECT@ECT, John D Suarez/HOU/ECT@ECT, Cara Semperger/PDX/ECT@ECT, \\nChristian Yoder/HOU/ECT@ECT, Jan M King/HOU/ECT@ECT, Mike \\nSwerzbin/HOU/ECT@ECT, Mary Hain/HOU/ECT@ECT, Michael Etringer/HOU/ECT@ECT, \\nJohn Malowney/HOU/ECT@ECT, Elizabeth Sager/HOU/ECT@ECT, Laura \\nJones/HOU/ECT@ECT, Cyril Price/HOU/ECT@ECT, James E Terrell/HOU/ECT@ECT, \\nCorry Bentley/HOU/ECT@ECT, Matt Lorenz/HOU/ECT@ECT, Thresa A \\nAllen/HOU/ECT@ECT, David Portz/HOU/ECT@ECT, Sharen Cason/HOU/ECT@ECT, \\nVeronica Gonzalez/HOU/ECT@ECT, Kimberly Allen/HOU/ECT@ECT, Amy \\nDegeyter/HOU/ECT@ECT, William S Bradford/HOU/ECT@ECT, Debbie R \\nBrackett/HOU/ECT@ECT, Christopher Smith/HOU/ECT@ECT, Brant Reves/HOU/ECT@ECT, \\nRussell Diamond/HOU/ECT@ECT, John Suttle/HOU/ECT@ECT, Tanya \\nRohauer/HOU/ECT@ECT, Rod Nelson/HOU/ECT@ECT, Stephanie Piwetz/HOU/ECT@ECT, \\nLeslie Hansen/HOU/ECT@ECT, Russell T Kelley/HOU/ECT@ECT, Stewart \\nRosman/HOU/ECT@ECT, Holli Krebs/HOU/ECT@ECT, Paul Choi/SF/ECT@ECT, Chris H \\nFoster/HOU/ECT@ECT, Sean Crandall/PDX/ECT@ECT, Diana Scholtes/HOU/ECT@ECT, \\nPaul Mead/PDX/ECT@ECT, Jeff Richter/HOU/ECT@ECT, Phillip Platter/HOU/ECT@ECT, \\nSmith L Day/HOU/ECT@ECT, Robert Badeer/HOU/ECT@ECT, D Brett \\nHunsucker/HOU/ECT@ECT, Kim Ward/HOU/ECT@ECT, John M Forney/HOU/ECT@ECT, \\nEdward D Baughman/HOU/ECT@ECT, Kayne Coulter/HOU/ECT@ECT, Alonzo \\nWilliams/HOU/ECT@ECT, John Kinser/HOU/ECT@ECT, Robert \\nBenson/Corp/Enron@Enron, Larry Valderrama/HOU/ECT@ECT, Paul J \\nBroderick/HOU/ECT@ECT, Edward Sacks/Corp/Enron@Enron, Janet H \\nMoore/HOU/ECT@ECT, Janice R Moore/HOU/ECT@ECT, Shari Stack/HOU/ECT@ECT, Kevin \\nM Presto/HOU/ECT@ECT, Rogers Herndon/HOU/ECT@ect, Jesse Bryson/HOU/ECT@ECT, \\nStanley Cocke/PDX/ECT@ECT, Michael M Driscoll/PDX/ECT@ECT, Brian \\nRobinhold/PDX/ECT@ECT, Doug Gilbert-Smith/Corp/Enron@ENRON, Kimberly \\nHundl/Corp/Enron@Enron, Joy Werner/Corp/Enron@ENRON, Elsie Lew/HOU/ECT@ECT, \\nDan Houston/Corp/Enron@Enron, Amy Horton/Corp/Enron@ENRON, Kim \\nDurham/HOU/ECT@ECT, Theresa R Kotrla/HOU/ECT@ECT\\ncc:  \\nSubject: Name Change-BP Energy Company\\n\\nPlease note the following changes:\\nAmoco Energy Trading Corporation (Amoco)\\nIs now\\nBP Energy Company\\n\\n'"
      ]
     },
     "execution_count": 421,
     "metadata": {},
     "output_type": "execute_result"
    }
   ],
   "source": [
    "e.get_payload()"
   ]
  },
  {
   "cell_type": "markdown",
   "id": "04c7d431-a470-4439-a5fa-98304dde491a",
   "metadata": {},
   "source": [
    "#### Extract headers"
   ]
  },
  {
   "cell_type": "code",
   "execution_count": 423,
   "id": "586cde84-3e4e-4a6b-a189-f4115eaf3160",
   "metadata": {},
   "outputs": [],
   "source": [
    "def get_field(field, messages):\n",
    "    column = []\n",
    "    for message in messages:\n",
    "        e = email.message_from_string(message)\n",
    "        column.append(e.get(field))\n",
    "    return column"
   ]
  },
  {
   "cell_type": "code",
   "execution_count": 425,
   "id": "e418d342-d9ee-4475-8fca-05f3411d7af5",
   "metadata": {},
   "outputs": [
    {
     "data": {
      "text/html": [
       "<div>\n",
       "<style scoped>\n",
       "    .dataframe tbody tr th:only-of-type {\n",
       "        vertical-align: middle;\n",
       "    }\n",
       "\n",
       "    .dataframe tbody tr th {\n",
       "        vertical-align: top;\n",
       "    }\n",
       "\n",
       "    .dataframe thead th {\n",
       "        text-align: right;\n",
       "    }\n",
       "</style>\n",
       "<table border=\"1\" class=\"dataframe\">\n",
       "  <thead>\n",
       "    <tr style=\"text-align: right;\">\n",
       "      <th></th>\n",
       "      <th>file</th>\n",
       "      <th>message</th>\n",
       "      <th>date</th>\n",
       "      <th>subject</th>\n",
       "      <th>X-Folder</th>\n",
       "      <th>X-From</th>\n",
       "      <th>X-To</th>\n",
       "    </tr>\n",
       "  </thead>\n",
       "  <tbody>\n",
       "    <tr>\n",
       "      <th>0</th>\n",
       "      <td>white-s/discussion_threads/3.</td>\n",
       "      <td>Message-ID: &lt;28919265.1075852042932.JavaMail.e...</td>\n",
       "      <td>Wed, 29 Nov 2000 06:30:00 -0800 (PST)</td>\n",
       "      <td>2000 10 Desk Analysis</td>\n",
       "      <td>\\Sally_White_Nov2001\\Notes Folders\\Discussion ...</td>\n",
       "      <td>Amy Clemons</td>\n",
       "      <td>Casey Evans, Jenny Latham, Stacey W White, Mon...</td>\n",
       "    </tr>\n",
       "    <tr>\n",
       "      <th>1</th>\n",
       "      <td>white-s/discussion_threads/30.</td>\n",
       "      <td>Message-ID: &lt;28555804.1075852043600.JavaMail.e...</td>\n",
       "      <td>Mon, 18 Dec 2000 10:15:00 -0800 (PST)</td>\n",
       "      <td>Name Change-BP Energy Company</td>\n",
       "      <td>\\Sally_White_Nov2001\\Notes Folders\\Discussion ...</td>\n",
       "      <td>Rhonda L Denton</td>\n",
       "      <td>Stacey W White</td>\n",
       "    </tr>\n",
       "    <tr>\n",
       "      <th>2</th>\n",
       "      <td>white-s/discussion_threads/31.</td>\n",
       "      <td>Message-ID: &lt;8369235.1075852043623.JavaMail.ev...</td>\n",
       "      <td>Tue, 19 Dec 2000 06:40:00 -0800 (PST)</td>\n",
       "      <td>2000 11 Flash Report</td>\n",
       "      <td>\\Sally_White_Nov2001\\Notes Folders\\Discussion ...</td>\n",
       "      <td>Amy Clemons</td>\n",
       "      <td>Tracy Greene, Todd Warwick, Stacey W White, Je...</td>\n",
       "    </tr>\n",
       "  </tbody>\n",
       "</table>\n",
       "</div>"
      ],
      "text/plain": [
       "                             file  \\\n",
       "0   white-s/discussion_threads/3.   \n",
       "1  white-s/discussion_threads/30.   \n",
       "2  white-s/discussion_threads/31.   \n",
       "\n",
       "                                             message  \\\n",
       "0  Message-ID: <28919265.1075852042932.JavaMail.e...   \n",
       "1  Message-ID: <28555804.1075852043600.JavaMail.e...   \n",
       "2  Message-ID: <8369235.1075852043623.JavaMail.ev...   \n",
       "\n",
       "                                    date                        subject  \\\n",
       "0  Wed, 29 Nov 2000 06:30:00 -0800 (PST)          2000 10 Desk Analysis   \n",
       "1  Mon, 18 Dec 2000 10:15:00 -0800 (PST)  Name Change-BP Energy Company   \n",
       "2  Tue, 19 Dec 2000 06:40:00 -0800 (PST)           2000 11 Flash Report   \n",
       "\n",
       "                                            X-Folder           X-From  \\\n",
       "0  \\Sally_White_Nov2001\\Notes Folders\\Discussion ...      Amy Clemons   \n",
       "1  \\Sally_White_Nov2001\\Notes Folders\\Discussion ...  Rhonda L Denton   \n",
       "2  \\Sally_White_Nov2001\\Notes Folders\\Discussion ...      Amy Clemons   \n",
       "\n",
       "                                                X-To  \n",
       "0  Casey Evans, Jenny Latham, Stacey W White, Mon...  \n",
       "1                                     Stacey W White  \n",
       "2  Tracy Greene, Todd Warwick, Stacey W White, Je...  "
      ]
     },
     "execution_count": 425,
     "metadata": {},
     "output_type": "execute_result"
    }
   ],
   "source": [
    "df['date'] = get_field(\"Date\", df['message'])\n",
    "df['subject'] = get_field(\"Subject\", df['message'])\n",
    "df['X-Folder'] = get_field(\"X-Folder\", df['message'])\n",
    "df['X-From'] = get_field(\"X-From\", df['message'])\n",
    "df['X-To'] = get_field(\"X-To\", df['message'])\n",
    "df.head(3)"
   ]
  },
  {
   "cell_type": "markdown",
   "id": "da616794-ca49-42b9-bc31-21cde46010b7",
   "metadata": {},
   "source": [
    "#### Extract Message Body"
   ]
  },
  {
   "cell_type": "code",
   "execution_count": 426,
   "id": "1f601574-884d-42eb-aef9-50d8e708e381",
   "metadata": {},
   "outputs": [
    {
     "data": {
      "text/html": [
       "<div>\n",
       "<style scoped>\n",
       "    .dataframe tbody tr th:only-of-type {\n",
       "        vertical-align: middle;\n",
       "    }\n",
       "\n",
       "    .dataframe tbody tr th {\n",
       "        vertical-align: top;\n",
       "    }\n",
       "\n",
       "    .dataframe thead th {\n",
       "        text-align: right;\n",
       "    }\n",
       "</style>\n",
       "<table border=\"1\" class=\"dataframe\">\n",
       "  <thead>\n",
       "    <tr style=\"text-align: right;\">\n",
       "      <th></th>\n",
       "      <th>file</th>\n",
       "      <th>message</th>\n",
       "      <th>date</th>\n",
       "      <th>subject</th>\n",
       "      <th>X-Folder</th>\n",
       "      <th>X-From</th>\n",
       "      <th>X-To</th>\n",
       "      <th>body</th>\n",
       "    </tr>\n",
       "  </thead>\n",
       "  <tbody>\n",
       "    <tr>\n",
       "      <th>0</th>\n",
       "      <td>white-s/discussion_threads/3.</td>\n",
       "      <td>Message-ID: &lt;28919265.1075852042932.JavaMail.e...</td>\n",
       "      <td>Wed, 29 Nov 2000 06:30:00 -0800 (PST)</td>\n",
       "      <td>2000 10 Desk Analysis</td>\n",
       "      <td>\\Sally_White_Nov2001\\Notes Folders\\Discussion ...</td>\n",
       "      <td>Amy Clemons</td>\n",
       "      <td>Casey Evans, Jenny Latham, Stacey W White, Mon...</td>\n",
       "      <td>Here is the Desk Analysis - breakdown of 2000 ...</td>\n",
       "    </tr>\n",
       "    <tr>\n",
       "      <th>1</th>\n",
       "      <td>white-s/discussion_threads/30.</td>\n",
       "      <td>Message-ID: &lt;28555804.1075852043600.JavaMail.e...</td>\n",
       "      <td>Mon, 18 Dec 2000 10:15:00 -0800 (PST)</td>\n",
       "      <td>Name Change-BP Energy Company</td>\n",
       "      <td>\\Sally_White_Nov2001\\Notes Folders\\Discussion ...</td>\n",
       "      <td>Rhonda L Denton</td>\n",
       "      <td>Stacey W White</td>\n",
       "      <td>---------------------- Forwarded by Rhonda L D...</td>\n",
       "    </tr>\n",
       "    <tr>\n",
       "      <th>2</th>\n",
       "      <td>white-s/discussion_threads/31.</td>\n",
       "      <td>Message-ID: &lt;8369235.1075852043623.JavaMail.ev...</td>\n",
       "      <td>Tue, 19 Dec 2000 06:40:00 -0800 (PST)</td>\n",
       "      <td>2000 11 Flash Report</td>\n",
       "      <td>\\Sally_White_Nov2001\\Notes Folders\\Discussion ...</td>\n",
       "      <td>Amy Clemons</td>\n",
       "      <td>Tracy Greene, Todd Warwick, Stacey W White, Je...</td>\n",
       "      <td>Here is the 2000 11 Final Flash Report.  Let m...</td>\n",
       "    </tr>\n",
       "  </tbody>\n",
       "</table>\n",
       "</div>"
      ],
      "text/plain": [
       "                             file  \\\n",
       "0   white-s/discussion_threads/3.   \n",
       "1  white-s/discussion_threads/30.   \n",
       "2  white-s/discussion_threads/31.   \n",
       "\n",
       "                                             message  \\\n",
       "0  Message-ID: <28919265.1075852042932.JavaMail.e...   \n",
       "1  Message-ID: <28555804.1075852043600.JavaMail.e...   \n",
       "2  Message-ID: <8369235.1075852043623.JavaMail.ev...   \n",
       "\n",
       "                                    date                        subject  \\\n",
       "0  Wed, 29 Nov 2000 06:30:00 -0800 (PST)          2000 10 Desk Analysis   \n",
       "1  Mon, 18 Dec 2000 10:15:00 -0800 (PST)  Name Change-BP Energy Company   \n",
       "2  Tue, 19 Dec 2000 06:40:00 -0800 (PST)           2000 11 Flash Report   \n",
       "\n",
       "                                            X-Folder           X-From  \\\n",
       "0  \\Sally_White_Nov2001\\Notes Folders\\Discussion ...      Amy Clemons   \n",
       "1  \\Sally_White_Nov2001\\Notes Folders\\Discussion ...  Rhonda L Denton   \n",
       "2  \\Sally_White_Nov2001\\Notes Folders\\Discussion ...      Amy Clemons   \n",
       "\n",
       "                                                X-To  \\\n",
       "0  Casey Evans, Jenny Latham, Stacey W White, Mon...   \n",
       "1                                     Stacey W White   \n",
       "2  Tracy Greene, Todd Warwick, Stacey W White, Je...   \n",
       "\n",
       "                                                body  \n",
       "0  Here is the Desk Analysis - breakdown of 2000 ...  \n",
       "1  ---------------------- Forwarded by Rhonda L D...  \n",
       "2  Here is the 2000 11 Final Flash Report.  Let m...  "
      ]
     },
     "execution_count": 426,
     "metadata": {},
     "output_type": "execute_result"
    }
   ],
   "source": [
    "def body(messages):\n",
    "    column = []\n",
    "    for message in messages:\n",
    "        e = email.message_from_string(message)\n",
    "        column.append(e.get_payload())\n",
    "    return column\n",
    "\n",
    "df['body'] = body(df['message'])\n",
    "df.head(3)"
   ]
  },
  {
   "cell_type": "markdown",
   "id": "c72e1da3-5f84-4980-a960-647dacadb29d",
   "metadata": {},
   "source": [
    "#### Employee Names"
   ]
  },
  {
   "cell_type": "code",
   "execution_count": 427,
   "id": "e039395a-8776-4cf1-bb57-05626b0926d0",
   "metadata": {},
   "outputs": [
    {
     "data": {
      "text/plain": [
       "0     white-s/discussion_threads/3.\n",
       "1    white-s/discussion_threads/30.\n",
       "2    white-s/discussion_threads/31.\n",
       "3    white-s/discussion_threads/32.\n",
       "4    white-s/discussion_threads/33.\n",
       "5    white-s/discussion_threads/34.\n",
       "6    white-s/discussion_threads/35.\n",
       "7    white-s/discussion_threads/36.\n",
       "8    white-s/discussion_threads/37.\n",
       "9    white-s/discussion_threads/38.\n",
       "Name: file, dtype: object"
      ]
     },
     "execution_count": 427,
     "metadata": {},
     "output_type": "execute_result"
    }
   ],
   "source": [
    "df['file'][:10]"
   ]
  },
  {
   "cell_type": "code",
   "execution_count": 428,
   "id": "fbf10095-5893-4794-ba9c-a584dcd0becf",
   "metadata": {},
   "outputs": [
    {
     "data": {
      "text/html": [
       "<div>\n",
       "<style scoped>\n",
       "    .dataframe tbody tr th:only-of-type {\n",
       "        vertical-align: middle;\n",
       "    }\n",
       "\n",
       "    .dataframe tbody tr th {\n",
       "        vertical-align: top;\n",
       "    }\n",
       "\n",
       "    .dataframe thead th {\n",
       "        text-align: right;\n",
       "    }\n",
       "</style>\n",
       "<table border=\"1\" class=\"dataframe\">\n",
       "  <thead>\n",
       "    <tr style=\"text-align: right;\">\n",
       "      <th></th>\n",
       "      <th>file</th>\n",
       "      <th>message</th>\n",
       "      <th>date</th>\n",
       "      <th>subject</th>\n",
       "      <th>X-Folder</th>\n",
       "      <th>X-From</th>\n",
       "      <th>X-To</th>\n",
       "      <th>body</th>\n",
       "      <th>employee</th>\n",
       "    </tr>\n",
       "  </thead>\n",
       "  <tbody>\n",
       "    <tr>\n",
       "      <th>0</th>\n",
       "      <td>white-s/discussion_threads/3.</td>\n",
       "      <td>Message-ID: &lt;28919265.1075852042932.JavaMail.e...</td>\n",
       "      <td>Wed, 29 Nov 2000 06:30:00 -0800 (PST)</td>\n",
       "      <td>2000 10 Desk Analysis</td>\n",
       "      <td>\\Sally_White_Nov2001\\Notes Folders\\Discussion ...</td>\n",
       "      <td>Amy Clemons</td>\n",
       "      <td>Casey Evans, Jenny Latham, Stacey W White, Mon...</td>\n",
       "      <td>Here is the Desk Analysis - breakdown of 2000 ...</td>\n",
       "      <td>white-s</td>\n",
       "    </tr>\n",
       "    <tr>\n",
       "      <th>1</th>\n",
       "      <td>white-s/discussion_threads/30.</td>\n",
       "      <td>Message-ID: &lt;28555804.1075852043600.JavaMail.e...</td>\n",
       "      <td>Mon, 18 Dec 2000 10:15:00 -0800 (PST)</td>\n",
       "      <td>Name Change-BP Energy Company</td>\n",
       "      <td>\\Sally_White_Nov2001\\Notes Folders\\Discussion ...</td>\n",
       "      <td>Rhonda L Denton</td>\n",
       "      <td>Stacey W White</td>\n",
       "      <td>---------------------- Forwarded by Rhonda L D...</td>\n",
       "      <td>white-s</td>\n",
       "    </tr>\n",
       "    <tr>\n",
       "      <th>2</th>\n",
       "      <td>white-s/discussion_threads/31.</td>\n",
       "      <td>Message-ID: &lt;8369235.1075852043623.JavaMail.ev...</td>\n",
       "      <td>Tue, 19 Dec 2000 06:40:00 -0800 (PST)</td>\n",
       "      <td>2000 11 Flash Report</td>\n",
       "      <td>\\Sally_White_Nov2001\\Notes Folders\\Discussion ...</td>\n",
       "      <td>Amy Clemons</td>\n",
       "      <td>Tracy Greene, Todd Warwick, Stacey W White, Je...</td>\n",
       "      <td>Here is the 2000 11 Final Flash Report.  Let m...</td>\n",
       "      <td>white-s</td>\n",
       "    </tr>\n",
       "  </tbody>\n",
       "</table>\n",
       "</div>"
      ],
      "text/plain": [
       "                             file  \\\n",
       "0   white-s/discussion_threads/3.   \n",
       "1  white-s/discussion_threads/30.   \n",
       "2  white-s/discussion_threads/31.   \n",
       "\n",
       "                                             message  \\\n",
       "0  Message-ID: <28919265.1075852042932.JavaMail.e...   \n",
       "1  Message-ID: <28555804.1075852043600.JavaMail.e...   \n",
       "2  Message-ID: <8369235.1075852043623.JavaMail.ev...   \n",
       "\n",
       "                                    date                        subject  \\\n",
       "0  Wed, 29 Nov 2000 06:30:00 -0800 (PST)          2000 10 Desk Analysis   \n",
       "1  Mon, 18 Dec 2000 10:15:00 -0800 (PST)  Name Change-BP Energy Company   \n",
       "2  Tue, 19 Dec 2000 06:40:00 -0800 (PST)           2000 11 Flash Report   \n",
       "\n",
       "                                            X-Folder           X-From  \\\n",
       "0  \\Sally_White_Nov2001\\Notes Folders\\Discussion ...      Amy Clemons   \n",
       "1  \\Sally_White_Nov2001\\Notes Folders\\Discussion ...  Rhonda L Denton   \n",
       "2  \\Sally_White_Nov2001\\Notes Folders\\Discussion ...      Amy Clemons   \n",
       "\n",
       "                                                X-To  \\\n",
       "0  Casey Evans, Jenny Latham, Stacey W White, Mon...   \n",
       "1                                     Stacey W White   \n",
       "2  Tracy Greene, Todd Warwick, Stacey W White, Je...   \n",
       "\n",
       "                                                body employee  \n",
       "0  Here is the Desk Analysis - breakdown of 2000 ...  white-s  \n",
       "1  ---------------------- Forwarded by Rhonda L D...  white-s  \n",
       "2  Here is the 2000 11 Final Flash Report.  Let m...  white-s  "
      ]
     },
     "execution_count": 428,
     "metadata": {},
     "output_type": "execute_result"
    }
   ],
   "source": [
    "def employee(file):\n",
    "    column = []\n",
    "    for string in file:\n",
    "        column.append(string.split(\"/\")[0])\n",
    "    return column\n",
    "\n",
    "df['employee'] = employee(df['file'])\n",
    "df.head(3)"
   ]
  },
  {
   "cell_type": "markdown",
   "id": "ed93d501-d704-4f14-a7ef-002b6cca5608",
   "metadata": {},
   "source": [
    "#### Look into X-Folder"
   ]
  },
  {
   "cell_type": "code",
   "execution_count": 429,
   "id": "c90620ba-565e-4ddc-99e2-71a3c1f9d02c",
   "metadata": {},
   "outputs": [
    {
     "name": "stdout",
     "output_type": "stream",
     "text": [
      "number of folders:  12274\n",
      "number of unique folders:  208\n"
     ]
    }
   ],
   "source": [
    "print(\"number of folders: \", df.shape[0])\n",
    "print(\"number of unique folders: \", df['X-Folder'].unique().shape[0])"
   ]
  },
  {
   "cell_type": "markdown",
   "id": "d0018d3b-972a-4760-b946-25058c4c6dcd",
   "metadata": {},
   "source": [
    "#### Top 20 folders"
   ]
  },
  {
   "cell_type": "code",
   "execution_count": 430,
   "id": "055d62ee-1a78-4762-952e-83fd01bbc84d",
   "metadata": {},
   "outputs": [
    {
     "data": {
      "text/html": [
       "<div>\n",
       "<style scoped>\n",
       "    .dataframe tbody tr th:only-of-type {\n",
       "        vertical-align: middle;\n",
       "    }\n",
       "\n",
       "    .dataframe tbody tr th {\n",
       "        vertical-align: top;\n",
       "    }\n",
       "\n",
       "    .dataframe thead th {\n",
       "        text-align: right;\n",
       "    }\n",
       "</style>\n",
       "<table border=\"1\" class=\"dataframe\">\n",
       "  <thead>\n",
       "    <tr style=\"text-align: right;\">\n",
       "      <th></th>\n",
       "      <th>folder_name</th>\n",
       "      <th>count</th>\n",
       "    </tr>\n",
       "  </thead>\n",
       "  <tbody>\n",
       "    <tr>\n",
       "      <th>0</th>\n",
       "      <td>\\ExMerge - Williams III, Bill\\Schedule Crawler</td>\n",
       "      <td>1398</td>\n",
       "    </tr>\n",
       "    <tr>\n",
       "      <th>1</th>\n",
       "      <td>\\Williams III, Bill (Non-Privileged)\\Bill Will...</td>\n",
       "      <td>1022</td>\n",
       "    </tr>\n",
       "    <tr>\n",
       "      <th>2</th>\n",
       "      <td>\\SWHITE (Non-Privileged)\\Meetings</td>\n",
       "      <td>695</td>\n",
       "    </tr>\n",
       "    <tr>\n",
       "      <th>3</th>\n",
       "      <td>\\ExMerge - Williams III, Bill\\Sent Items</td>\n",
       "      <td>519</td>\n",
       "    </tr>\n",
       "    <tr>\n",
       "      <th>4</th>\n",
       "      <td>\\Zipper, Andy\\Zipper, Andy\\Deleted Items</td>\n",
       "      <td>419</td>\n",
       "    </tr>\n",
       "    <tr>\n",
       "      <th>5</th>\n",
       "      <td>\\ExMerge - Zufferli, John\\Sent Items</td>\n",
       "      <td>338</td>\n",
       "    </tr>\n",
       "    <tr>\n",
       "      <th>6</th>\n",
       "      <td>\\Y'Barbo, Paul\\Y'Barbo, Paul\\Inbox</td>\n",
       "      <td>335</td>\n",
       "    </tr>\n",
       "    <tr>\n",
       "      <th>7</th>\n",
       "      <td>\\Williams, Jason (Trading)\\Williams, Jason (Tr...</td>\n",
       "      <td>309</td>\n",
       "    </tr>\n",
       "    <tr>\n",
       "      <th>8</th>\n",
       "      <td>\\ExMerge - White, Stacey W.\\Sent Items</td>\n",
       "      <td>228</td>\n",
       "    </tr>\n",
       "    <tr>\n",
       "      <th>9</th>\n",
       "      <td>\\Williams, Jason (Trading)\\Williams, Jason (Tr...</td>\n",
       "      <td>201</td>\n",
       "    </tr>\n",
       "    <tr>\n",
       "      <th>10</th>\n",
       "      <td>\\Jason_Wolfe_Nov2001\\Notes Folders\\All documents</td>\n",
       "      <td>197</td>\n",
       "    </tr>\n",
       "    <tr>\n",
       "      <th>11</th>\n",
       "      <td>\\Jason_Wolfe_Nov2001\\Notes Folders\\Discussion ...</td>\n",
       "      <td>196</td>\n",
       "    </tr>\n",
       "    <tr>\n",
       "      <th>12</th>\n",
       "      <td>\\Mark_Whitt_Jan2002_1\\Whitt, Mark\\Inbox</td>\n",
       "      <td>194</td>\n",
       "    </tr>\n",
       "    <tr>\n",
       "      <th>13</th>\n",
       "      <td>\\MWHITT (Non-Privileged)\\Inbox</td>\n",
       "      <td>183</td>\n",
       "    </tr>\n",
       "    <tr>\n",
       "      <th>14</th>\n",
       "      <td>\\ExMerge - White, Stacey W.\\Inbox</td>\n",
       "      <td>177</td>\n",
       "    </tr>\n",
       "    <tr>\n",
       "      <th>15</th>\n",
       "      <td>\\PYBARBO (Non-Privileged)\\Inbox</td>\n",
       "      <td>158</td>\n",
       "    </tr>\n",
       "    <tr>\n",
       "      <th>16</th>\n",
       "      <td>\\JWOLFE (Non-Privileged)\\Inbox</td>\n",
       "      <td>139</td>\n",
       "    </tr>\n",
       "    <tr>\n",
       "      <th>17</th>\n",
       "      <td>\\Zipper, Andy\\Zipper, Andy\\Sent Items</td>\n",
       "      <td>137</td>\n",
       "    </tr>\n",
       "    <tr>\n",
       "      <th>18</th>\n",
       "      <td>\\ExMerge - Williams III, Bill\\Inbox</td>\n",
       "      <td>137</td>\n",
       "    </tr>\n",
       "    <tr>\n",
       "      <th>19</th>\n",
       "      <td>\\SWHITE (Non-Privileged)\\Sent Items</td>\n",
       "      <td>136</td>\n",
       "    </tr>\n",
       "  </tbody>\n",
       "</table>\n",
       "</div>"
      ],
      "text/plain": [
       "                                          folder_name  count\n",
       "0      \\ExMerge - Williams III, Bill\\Schedule Crawler   1398\n",
       "1   \\Williams III, Bill (Non-Privileged)\\Bill Will...   1022\n",
       "2                   \\SWHITE (Non-Privileged)\\Meetings    695\n",
       "3            \\ExMerge - Williams III, Bill\\Sent Items    519\n",
       "4            \\Zipper, Andy\\Zipper, Andy\\Deleted Items    419\n",
       "5                \\ExMerge - Zufferli, John\\Sent Items    338\n",
       "6                  \\Y'Barbo, Paul\\Y'Barbo, Paul\\Inbox    335\n",
       "7   \\Williams, Jason (Trading)\\Williams, Jason (Tr...    309\n",
       "8              \\ExMerge - White, Stacey W.\\Sent Items    228\n",
       "9   \\Williams, Jason (Trading)\\Williams, Jason (Tr...    201\n",
       "10   \\Jason_Wolfe_Nov2001\\Notes Folders\\All documents    197\n",
       "11  \\Jason_Wolfe_Nov2001\\Notes Folders\\Discussion ...    196\n",
       "12            \\Mark_Whitt_Jan2002_1\\Whitt, Mark\\Inbox    194\n",
       "13                     \\MWHITT (Non-Privileged)\\Inbox    183\n",
       "14                  \\ExMerge - White, Stacey W.\\Inbox    177\n",
       "15                    \\PYBARBO (Non-Privileged)\\Inbox    158\n",
       "16                     \\JWOLFE (Non-Privileged)\\Inbox    139\n",
       "17              \\Zipper, Andy\\Zipper, Andy\\Sent Items    137\n",
       "18                \\ExMerge - Williams III, Bill\\Inbox    137\n",
       "19                \\SWHITE (Non-Privileged)\\Sent Items    136"
      ]
     },
     "execution_count": 430,
     "metadata": {},
     "output_type": "execute_result"
    }
   ],
   "source": [
    "unique_emails = pd.DataFrame(df['X-Folder'].value_counts())\n",
    "unique_emails.reset_index(inplace=True)\n",
    "\n",
    "\n",
    "unique_emails.columns = ['folder_name', 'count']\n",
    "# top 20 folders\n",
    "unique_emails.iloc[:20,:]"
   ]
  },
  {
   "cell_type": "code",
   "execution_count": 437,
   "id": "c622fb3d-495c-4f46-8610-3034d177049c",
   "metadata": {},
   "outputs": [
    {
     "name": "stderr",
     "output_type": "stream",
     "text": [
      "/var/folders/48/skzz626x59b5wc8t7n4sj9tw0000gn/T/ipykernel_1921/1833239891.py:2: FutureWarning: \n",
      "\n",
      "Passing `palette` without assigning `hue` is deprecated and will be removed in v0.14.0. Assign the `y` variable to `hue` and set `legend=False` for the same effect.\n",
      "\n",
      "  sns.barplot(x='count', y='folder_name', data=unique_emails.iloc[:20, :], palette=\"Blues_d\")\n"
     ]
    },
    {
     "data": {
      "image/png": "[encoded data removed]",
      "text/plain": [
       "<Figure size 1000x600 with 1 Axes>"
      ]
     },
     "metadata": {},
     "output_type": "display_data"
    }
   ],
   "source": [
    "plt.figure(figsize=(10,6))\n",
    "sns.barplot(x='count', y='folder_name', data=unique_emails.iloc[:20, :], palette=\"Blues_d\")\n",
    "plt.title(\"Top 20 folders\")\n",
    "plt.xlabel(\"Count\")\n",
    "plt.ylabel(\"Folder_Name\")\n",
    "plt.show()"
   ]
  },
  {
   "cell_type": "markdown",
   "id": "65a21633-c18f-4981-af2f-81747dda9a7d",
   "metadata": {},
   "source": [
    "#### Top 20 highest email sender employeer (turns out we just have 7...)"
   ]
  },
  {
   "cell_type": "code",
   "execution_count": 439,
   "id": "ec550b10-0761-429f-a5e1-eedfcc625f22",
   "metadata": {},
   "outputs": [
    {
     "data": {
      "text/html": [
       "<div>\n",
       "<style scoped>\n",
       "    .dataframe tbody tr th:only-of-type {\n",
       "        vertical-align: middle;\n",
       "    }\n",
       "\n",
       "    .dataframe tbody tr th {\n",
       "        vertical-align: top;\n",
       "    }\n",
       "\n",
       "    .dataframe thead th {\n",
       "        text-align: right;\n",
       "    }\n",
       "</style>\n",
       "<table border=\"1\" class=\"dataframe\">\n",
       "  <thead>\n",
       "    <tr style=\"text-align: right;\">\n",
       "      <th></th>\n",
       "      <th>Employee_name</th>\n",
       "      <th>Counts</th>\n",
       "    </tr>\n",
       "  </thead>\n",
       "  <tbody>\n",
       "    <tr>\n",
       "      <th>0</th>\n",
       "      <td>williams-w3</td>\n",
       "      <td>3440</td>\n",
       "    </tr>\n",
       "    <tr>\n",
       "      <th>1</th>\n",
       "      <td>white-s</td>\n",
       "      <td>1816</td>\n",
       "    </tr>\n",
       "    <tr>\n",
       "      <th>2</th>\n",
       "      <td>wolfe-j</td>\n",
       "      <td>1587</td>\n",
       "    </tr>\n",
       "    <tr>\n",
       "      <th>3</th>\n",
       "      <td>zipper-a</td>\n",
       "      <td>1563</td>\n",
       "    </tr>\n",
       "    <tr>\n",
       "      <th>4</th>\n",
       "      <td>ybarbo-p</td>\n",
       "      <td>1291</td>\n",
       "    </tr>\n",
       "    <tr>\n",
       "      <th>5</th>\n",
       "      <td>williams-j</td>\n",
       "      <td>1213</td>\n",
       "    </tr>\n",
       "    <tr>\n",
       "      <th>6</th>\n",
       "      <td>whitt-m</td>\n",
       "      <td>807</td>\n",
       "    </tr>\n",
       "    <tr>\n",
       "      <th>7</th>\n",
       "      <td>zufferli-j</td>\n",
       "      <td>557</td>\n",
       "    </tr>\n",
       "  </tbody>\n",
       "</table>\n",
       "</div>"
      ],
      "text/plain": [
       "  Employee_name  Counts\n",
       "0   williams-w3    3440\n",
       "1       white-s    1816\n",
       "2       wolfe-j    1587\n",
       "3      zipper-a    1563\n",
       "4      ybarbo-p    1291\n",
       "5    williams-j    1213\n",
       "6       whitt-m     807\n",
       "7    zufferli-j     557"
      ]
     },
     "execution_count": 439,
     "metadata": {},
     "output_type": "execute_result"
    }
   ],
   "source": [
    "top_20 = pd.DataFrame(df['employee'].value_counts()[:20])\n",
    "top_20.reset_index(inplace=True)\n",
    "top_20.columns = [\"Employee_name\", \"Counts\"]\n",
    "top_20"
   ]
  },
  {
   "cell_type": "code",
   "execution_count": 441,
   "id": "b50aa631-fa25-4f58-9108-5aaa5e1b372e",
   "metadata": {},
   "outputs": [
    {
     "name": "stderr",
     "output_type": "stream",
     "text": [
      "/var/folders/48/skzz626x59b5wc8t7n4sj9tw0000gn/T/ipykernel_1921/1084256973.py:3: FutureWarning: \n",
      "\n",
      "Passing `palette` without assigning `hue` is deprecated and will be removed in v0.14.0. Assign the `y` variable to `hue` and set `legend=False` for the same effect.\n",
      "\n",
      "  sns.barplot(y=\"Employee_name\", x=\"Counts\", data=top_20, palette=\"Blues_d\")\n"
     ]
    },
    {
     "data": {
      "image/png": "[encoded data removed]",
      "text/plain": [
       "<Figure size 1000x800 with 1 Axes>"
      ]
     },
     "metadata": {},
     "output_type": "display_data"
    }
   ],
   "source": [
    "plt.figure(figsize=(10,8))\n",
    "\n",
    "sns.barplot(y=\"Employee_name\", x=\"Counts\", data=top_20, palette=\"Blues_d\")\n",
    "plt.title(\"Top 20 highest email sender employee\")\n",
    "plt.xlabel(\"Count\")\n",
    "plt.ylabel(\"Employee_name\")\n",
    "plt.show()"
   ]
  },
  {
   "cell_type": "markdown",
   "id": "34d58535-4849-4b46-973c-19ab1f707f55",
   "metadata": {},
   "source": [
    "### Data Cleaning and Transformation"
   ]
  },
  {
   "cell_type": "code",
   "execution_count": 443,
   "id": "5cb873b3-3dfa-4e69-a67a-73e121d83091",
   "metadata": {},
   "outputs": [
    {
     "name": "stdout",
     "output_type": "stream",
     "text": [
      "04-05-2001 13:51:00\n"
     ]
    }
   ],
   "source": [
    "import datetime\n",
    "from dateutil import parser\n",
    "\n",
    "#example\n",
    "x = parser.parse(\"Fri, 4 May 2001 13:51:00 -0700 (PDT)\")\n",
    "print(x.strftime(\"%d-%m-%Y %H:%M:%S\"))"
   ]
  },
  {
   "cell_type": "code",
   "execution_count": 445,
   "id": "b7bfabb4-6e93-49fe-a883-746305da28cc",
   "metadata": {},
   "outputs": [
    {
     "data": {
      "text/html": [
       "<div>\n",
       "<style scoped>\n",
       "    .dataframe tbody tr th:only-of-type {\n",
       "        vertical-align: middle;\n",
       "    }\n",
       "\n",
       "    .dataframe tbody tr th {\n",
       "        vertical-align: top;\n",
       "    }\n",
       "\n",
       "    .dataframe thead th {\n",
       "        text-align: right;\n",
       "    }\n",
       "</style>\n",
       "<table border=\"1\" class=\"dataframe\">\n",
       "  <thead>\n",
       "    <tr style=\"text-align: right;\">\n",
       "      <th></th>\n",
       "      <th>file</th>\n",
       "      <th>message</th>\n",
       "      <th>date</th>\n",
       "      <th>subject</th>\n",
       "      <th>X-Folder</th>\n",
       "      <th>X-From</th>\n",
       "      <th>X-To</th>\n",
       "      <th>body</th>\n",
       "      <th>employee</th>\n",
       "    </tr>\n",
       "  </thead>\n",
       "  <tbody>\n",
       "    <tr>\n",
       "      <th>0</th>\n",
       "      <td>white-s/discussion_threads/3.</td>\n",
       "      <td>Message-ID: &lt;28919265.1075852042932.JavaMail.e...</td>\n",
       "      <td>29-11-2000 06:30:00</td>\n",
       "      <td>2000 10 Desk Analysis</td>\n",
       "      <td>\\Sally_White_Nov2001\\Notes Folders\\Discussion ...</td>\n",
       "      <td>Amy Clemons</td>\n",
       "      <td>Casey Evans, Jenny Latham, Stacey W White, Mon...</td>\n",
       "      <td>Here is the Desk Analysis - breakdown of 2000 ...</td>\n",
       "      <td>white-s</td>\n",
       "    </tr>\n",
       "    <tr>\n",
       "      <th>1</th>\n",
       "      <td>white-s/discussion_threads/30.</td>\n",
       "      <td>Message-ID: &lt;28555804.1075852043600.JavaMail.e...</td>\n",
       "      <td>18-12-2000 10:15:00</td>\n",
       "      <td>Name Change-BP Energy Company</td>\n",
       "      <td>\\Sally_White_Nov2001\\Notes Folders\\Discussion ...</td>\n",
       "      <td>Rhonda L Denton</td>\n",
       "      <td>Stacey W White</td>\n",
       "      <td>---------------------- Forwarded by Rhonda L D...</td>\n",
       "      <td>white-s</td>\n",
       "    </tr>\n",
       "  </tbody>\n",
       "</table>\n",
       "</div>"
      ],
      "text/plain": [
       "                             file  \\\n",
       "0   white-s/discussion_threads/3.   \n",
       "1  white-s/discussion_threads/30.   \n",
       "\n",
       "                                             message                 date  \\\n",
       "0  Message-ID: <28919265.1075852042932.JavaMail.e...  29-11-2000 06:30:00   \n",
       "1  Message-ID: <28555804.1075852043600.JavaMail.e...  18-12-2000 10:15:00   \n",
       "\n",
       "                         subject  \\\n",
       "0          2000 10 Desk Analysis   \n",
       "1  Name Change-BP Energy Company   \n",
       "\n",
       "                                            X-Folder           X-From  \\\n",
       "0  \\Sally_White_Nov2001\\Notes Folders\\Discussion ...      Amy Clemons   \n",
       "1  \\Sally_White_Nov2001\\Notes Folders\\Discussion ...  Rhonda L Denton   \n",
       "\n",
       "                                                X-To  \\\n",
       "0  Casey Evans, Jenny Latham, Stacey W White, Mon...   \n",
       "1                                     Stacey W White   \n",
       "\n",
       "                                                body employee  \n",
       "0  Here is the Desk Analysis - breakdown of 2000 ...  white-s  \n",
       "1  ---------------------- Forwarded by Rhonda L D...  white-s  "
      ]
     },
     "execution_count": 445,
     "metadata": {},
     "output_type": "execute_result"
    }
   ],
   "source": [
    "def change_type(dates):\n",
    "    column = []\n",
    "    \n",
    "    for date in dates:\n",
    "        column.append(parser.parse(date).strftime(\"%d-%m-%Y %H:%M:%S\"))\n",
    "    return column\n",
    "\n",
    "df['date'] = change_type(df['date'])\n",
    "df.head(2)"
   ]
  },
  {
   "cell_type": "code",
   "execution_count": 447,
   "id": "a3da1ebb-bf69-4cb1-a4e2-dc9e4165f553",
   "metadata": {},
   "outputs": [
    {
     "name": "stdout",
     "output_type": "stream",
     "text": [
      "\\Sally_White_Nov2001\\Notes Folders\\Discussion threads\n"
     ]
    },
    {
     "data": {
      "text/plain": [
       "'Discussion threads'"
      ]
     },
     "execution_count": 447,
     "metadata": {},
     "output_type": "execute_result"
    }
   ],
   "source": [
    "print(df['X-Folder'][0])\n",
    "\n",
    "df['X-Folder'][0].split(\"\\\\\")[-1]"
   ]
  },
  {
   "cell_type": "code",
   "execution_count": 449,
   "id": "922edb20-87fd-4de4-b03f-ae23a94f5db9",
   "metadata": {},
   "outputs": [
    {
     "data": {
      "text/html": [
       "<div>\n",
       "<style scoped>\n",
       "    .dataframe tbody tr th:only-of-type {\n",
       "        vertical-align: middle;\n",
       "    }\n",
       "\n",
       "    .dataframe tbody tr th {\n",
       "        vertical-align: top;\n",
       "    }\n",
       "\n",
       "    .dataframe thead th {\n",
       "        text-align: right;\n",
       "    }\n",
       "</style>\n",
       "<table border=\"1\" class=\"dataframe\">\n",
       "  <thead>\n",
       "    <tr style=\"text-align: right;\">\n",
       "      <th></th>\n",
       "      <th>file</th>\n",
       "      <th>message</th>\n",
       "      <th>date</th>\n",
       "      <th>subject</th>\n",
       "      <th>X-Folder</th>\n",
       "      <th>X-From</th>\n",
       "      <th>X-To</th>\n",
       "      <th>body</th>\n",
       "      <th>employee</th>\n",
       "    </tr>\n",
       "  </thead>\n",
       "  <tbody>\n",
       "    <tr>\n",
       "      <th>0</th>\n",
       "      <td>white-s/discussion_threads/3.</td>\n",
       "      <td>Message-ID: &lt;28919265.1075852042932.JavaMail.e...</td>\n",
       "      <td>29-11-2000 06:30:00</td>\n",
       "      <td>2000 10 Desk Analysis</td>\n",
       "      <td>discussion threads</td>\n",
       "      <td>Amy Clemons</td>\n",
       "      <td>Casey Evans, Jenny Latham, Stacey W White, Mon...</td>\n",
       "      <td>Here is the Desk Analysis - breakdown of 2000 ...</td>\n",
       "      <td>white-s</td>\n",
       "    </tr>\n",
       "    <tr>\n",
       "      <th>1</th>\n",
       "      <td>white-s/discussion_threads/30.</td>\n",
       "      <td>Message-ID: &lt;28555804.1075852043600.JavaMail.e...</td>\n",
       "      <td>18-12-2000 10:15:00</td>\n",
       "      <td>Name Change-BP Energy Company</td>\n",
       "      <td>discussion threads</td>\n",
       "      <td>Rhonda L Denton</td>\n",
       "      <td>Stacey W White</td>\n",
       "      <td>---------------------- Forwarded by Rhonda L D...</td>\n",
       "      <td>white-s</td>\n",
       "    </tr>\n",
       "  </tbody>\n",
       "</table>\n",
       "</div>"
      ],
      "text/plain": [
       "                             file  \\\n",
       "0   white-s/discussion_threads/3.   \n",
       "1  white-s/discussion_threads/30.   \n",
       "\n",
       "                                             message                 date  \\\n",
       "0  Message-ID: <28919265.1075852042932.JavaMail.e...  29-11-2000 06:30:00   \n",
       "1  Message-ID: <28555804.1075852043600.JavaMail.e...  18-12-2000 10:15:00   \n",
       "\n",
       "                         subject            X-Folder           X-From  \\\n",
       "0          2000 10 Desk Analysis  discussion threads      Amy Clemons   \n",
       "1  Name Change-BP Energy Company  discussion threads  Rhonda L Denton   \n",
       "\n",
       "                                                X-To  \\\n",
       "0  Casey Evans, Jenny Latham, Stacey W White, Mon...   \n",
       "1                                     Stacey W White   \n",
       "\n",
       "                                                body employee  \n",
       "0  Here is the Desk Analysis - breakdown of 2000 ...  white-s  \n",
       "1  ---------------------- Forwarded by Rhonda L D...  white-s  "
      ]
     },
     "execution_count": 449,
     "metadata": {},
     "output_type": "execute_result"
    }
   ],
   "source": [
    "def preprocess_folder(folders):\n",
    "    column = []\n",
    "    for folder in folders:\n",
    "        if (folder is None or folder == \"\"):\n",
    "            column.append(np.nan)\n",
    "        else:\n",
    "            column.append(folder.split(\"\\\\\")[-1].lower())\n",
    "    return column\n",
    "\n",
    "df['X-Folder'] = preprocess_folder(df['X-Folder'])\n",
    "df.head(2)"
   ]
  },
  {
   "cell_type": "code",
   "execution_count": 451,
   "id": "d34d23ce-b8bb-404b-84af-38a0dc3bab05",
   "metadata": {},
   "outputs": [
    {
     "name": "stdout",
     "output_type": "stream",
     "text": [
      "Unique Foldes:  98\n"
     ]
    },
    {
     "data": {
      "text/plain": [
       "array(['discussion threads', 'doorstep', 'ena cal', 'flash', '200106',\n",
       "       'genco_plant misc', 'global standards', 'inbox',\n",
       "       'itinerary/receipt', 'itinerary_receipt', 'legal', 'meetings',\n",
       "       'off-site', 'passwords', 'personal', 'personnel', 'training',\n",
       "       'vacation', 'portcalc requests', 'press'], dtype=object)"
      ]
     },
     "execution_count": 451,
     "metadata": {},
     "output_type": "execute_result"
    }
   ],
   "source": [
    "# count unique folders\n",
    "print(\"Unique Foldes: \", len(df['X-Folder'].unique()))\n",
    "\n",
    "# view some of them\n",
    "df['X-Folder'].unique()[0:20]"
   ]
  },
  {
   "cell_type": "markdown",
   "id": "83e44abe-ce7f-49e2-8f3e-68222503c734",
   "metadata": {},
   "source": [
    "### Replace empty missing values in subject with np.nan"
   ]
  },
  {
   "cell_type": "code",
   "execution_count": 453,
   "id": "b309a662-5e6e-419e-b30b-1b0d296670f5",
   "metadata": {},
   "outputs": [],
   "source": [
    "def replace_empty_with_nan(subject):\n",
    "    column = []\n",
    "    for val in subject:\n",
    "        if (val == \"\"):\n",
    "            column.append(np.nan) \n",
    "        else:\n",
    "            column.append(val)\n",
    "    return column"
   ]
  },
  {
   "cell_type": "code",
   "execution_count": 455,
   "id": "12624297-836d-4537-8099-6985ea7151d9",
   "metadata": {},
   "outputs": [],
   "source": [
    "df['subject'] = replace_empty_with_nan(df['subject'])\n",
    "df['X-To'] = replace_empty_with_nan(df['X-To'])"
   ]
  },
  {
   "cell_type": "code",
   "execution_count": 457,
   "id": "93f78336-895c-418b-9425-6e583403fd1b",
   "metadata": {},
   "outputs": [
    {
     "data": {
      "text/plain": [
       "file          0\n",
       "message       0\n",
       "date          0\n",
       "subject     242\n",
       "X-Folder      1\n",
       "X-From        1\n",
       "X-To        815\n",
       "body          0\n",
       "employee      0\n",
       "dtype: int64"
      ]
     },
     "execution_count": 457,
     "metadata": {},
     "output_type": "execute_result"
    }
   ],
   "source": [
    "df.isnull().sum()"
   ]
  },
  {
   "cell_type": "code",
   "execution_count": 459,
   "id": "e2153e26-d07b-42a6-b4b4-4c397e438850",
   "metadata": {},
   "outputs": [
    {
     "data": {
      "text/plain": [
       "subject     0.019716\n",
       "X-Folder    0.000081\n",
       "X-From      0.000081\n",
       "X-To        0.066401\n",
       "dtype: float64"
      ]
     },
     "execution_count": 459,
     "metadata": {},
     "output_type": "execute_result"
    }
   ],
   "source": [
    "# calculate percentage of missing values\n",
    "miss = df.isnull().sum()\n",
    "miss = miss[miss>0]\n",
    "miss = miss / df.shape[0]\n",
    "miss"
   ]
  },
  {
   "cell_type": "code",
   "execution_count": 461,
   "id": "976e5849-3333-4935-a456-e17aa43e4590",
   "metadata": {},
   "outputs": [],
   "source": [
    "# drop missing value rows\n",
    "df.dropna(axis=0, inplace=True)"
   ]
  },
  {
   "cell_type": "code",
   "execution_count": 463,
   "id": "732c8f90-9059-4c01-bc4d-f09a29579530",
   "metadata": {},
   "outputs": [
    {
     "data": {
      "text/plain": [
       "(file        0\n",
       " message     0\n",
       " date        0\n",
       " subject     0\n",
       " X-Folder    0\n",
       " X-From      0\n",
       " X-To        0\n",
       " body        0\n",
       " employee    0\n",
       " dtype: int64,\n",
       " (11220, 9))"
      ]
     },
     "execution_count": 463,
     "metadata": {},
     "output_type": "execute_result"
    }
   ],
   "source": [
    "df.isnull().sum(), df.shape"
   ]
  },
  {
   "cell_type": "code",
   "execution_count": 465,
   "id": "95033b80-1264-4cd5-85c8-d99776350bb8",
   "metadata": {},
   "outputs": [
    {
     "data": {
      "text/html": [
       "<div>\n",
       "<style scoped>\n",
       "    .dataframe tbody tr th:only-of-type {\n",
       "        vertical-align: middle;\n",
       "    }\n",
       "\n",
       "    .dataframe tbody tr th {\n",
       "        vertical-align: top;\n",
       "    }\n",
       "\n",
       "    .dataframe thead th {\n",
       "        text-align: right;\n",
       "    }\n",
       "</style>\n",
       "<table border=\"1\" class=\"dataframe\">\n",
       "  <thead>\n",
       "    <tr style=\"text-align: right;\">\n",
       "      <th></th>\n",
       "      <th>file</th>\n",
       "      <th>message</th>\n",
       "      <th>date</th>\n",
       "      <th>subject</th>\n",
       "      <th>X-Folder</th>\n",
       "      <th>X-From</th>\n",
       "      <th>X-To</th>\n",
       "      <th>body</th>\n",
       "      <th>employee</th>\n",
       "    </tr>\n",
       "  </thead>\n",
       "  <tbody>\n",
       "    <tr>\n",
       "      <th>0</th>\n",
       "      <td>white-s/discussion_threads/3.</td>\n",
       "      <td>Message-ID: &lt;28919265.1075852042932.JavaMail.e...</td>\n",
       "      <td>29-11-2000 06:30:00</td>\n",
       "      <td>2000 10 Desk Analysis</td>\n",
       "      <td>discussion threads</td>\n",
       "      <td>Amy Clemons</td>\n",
       "      <td>Casey Evans, Jenny Latham, Stacey W White, Mon...</td>\n",
       "      <td>Here is the Desk Analysis - breakdown of 2000 ...</td>\n",
       "      <td>white-s</td>\n",
       "    </tr>\n",
       "    <tr>\n",
       "      <th>1</th>\n",
       "      <td>white-s/discussion_threads/30.</td>\n",
       "      <td>Message-ID: &lt;28555804.1075852043600.JavaMail.e...</td>\n",
       "      <td>18-12-2000 10:15:00</td>\n",
       "      <td>Name Change-BP Energy Company</td>\n",
       "      <td>discussion threads</td>\n",
       "      <td>Rhonda L Denton</td>\n",
       "      <td>Stacey W White</td>\n",
       "      <td>---------------------- Forwarded by Rhonda L D...</td>\n",
       "      <td>white-s</td>\n",
       "    </tr>\n",
       "    <tr>\n",
       "      <th>2</th>\n",
       "      <td>white-s/discussion_threads/31.</td>\n",
       "      <td>Message-ID: &lt;8369235.1075852043623.JavaMail.ev...</td>\n",
       "      <td>19-12-2000 06:40:00</td>\n",
       "      <td>2000 11 Flash Report</td>\n",
       "      <td>discussion threads</td>\n",
       "      <td>Amy Clemons</td>\n",
       "      <td>Tracy Greene, Todd Warwick, Stacey W White, Je...</td>\n",
       "      <td>Here is the 2000 11 Final Flash Report.  Let m...</td>\n",
       "      <td>white-s</td>\n",
       "    </tr>\n",
       "  </tbody>\n",
       "</table>\n",
       "</div>"
      ],
      "text/plain": [
       "                             file  \\\n",
       "0   white-s/discussion_threads/3.   \n",
       "1  white-s/discussion_threads/30.   \n",
       "2  white-s/discussion_threads/31.   \n",
       "\n",
       "                                             message                 date  \\\n",
       "0  Message-ID: <28919265.1075852042932.JavaMail.e...  29-11-2000 06:30:00   \n",
       "1  Message-ID: <28555804.1075852043600.JavaMail.e...  18-12-2000 10:15:00   \n",
       "2  Message-ID: <8369235.1075852043623.JavaMail.ev...  19-12-2000 06:40:00   \n",
       "\n",
       "                         subject            X-Folder           X-From  \\\n",
       "0          2000 10 Desk Analysis  discussion threads      Amy Clemons   \n",
       "1  Name Change-BP Energy Company  discussion threads  Rhonda L Denton   \n",
       "2           2000 11 Flash Report  discussion threads      Amy Clemons   \n",
       "\n",
       "                                                X-To  \\\n",
       "0  Casey Evans, Jenny Latham, Stacey W White, Mon...   \n",
       "1                                     Stacey W White   \n",
       "2  Tracy Greene, Todd Warwick, Stacey W White, Je...   \n",
       "\n",
       "                                                body employee  \n",
       "0  Here is the Desk Analysis - breakdown of 2000 ...  white-s  \n",
       "1  ---------------------- Forwarded by Rhonda L D...  white-s  \n",
       "2  Here is the 2000 11 Final Flash Report.  Let m...  white-s  "
      ]
     },
     "execution_count": 465,
     "metadata": {},
     "output_type": "execute_result"
    }
   ],
   "source": [
    "df.head(3)"
   ]
  },
  {
   "cell_type": "markdown",
   "id": "5d8aedc1-2ee3-43c9-9309-586216a0b12a",
   "metadata": {},
   "source": [
    "#### Drop: file, message, date, X-Form, X-to, employee"
   ]
  },
  {
   "cell_type": "code",
   "execution_count": 467,
   "id": "e2d49ce5-9dcf-4c24-bd34-b9c9036b9ae5",
   "metadata": {},
   "outputs": [],
   "source": [
    "cols_to_drop = ['file','message','date','X-From','X-To','employee']"
   ]
  },
  {
   "cell_type": "code",
   "execution_count": 469,
   "id": "645f1b73-9e43-4a12-bb85-25d3b26d7118",
   "metadata": {},
   "outputs": [],
   "source": [
    "df.drop(cols_to_drop, axis=1, inplace=True)"
   ]
  },
  {
   "cell_type": "code",
   "execution_count": 471,
   "id": "606698bd-05a8-412f-93bc-57ee9004fb57",
   "metadata": {},
   "outputs": [
    {
     "data": {
      "text/html": [
       "<div>\n",
       "<style scoped>\n",
       "    .dataframe tbody tr th:only-of-type {\n",
       "        vertical-align: middle;\n",
       "    }\n",
       "\n",
       "    .dataframe tbody tr th {\n",
       "        vertical-align: top;\n",
       "    }\n",
       "\n",
       "    .dataframe thead th {\n",
       "        text-align: right;\n",
       "    }\n",
       "</style>\n",
       "<table border=\"1\" class=\"dataframe\">\n",
       "  <thead>\n",
       "    <tr style=\"text-align: right;\">\n",
       "      <th></th>\n",
       "      <th>subject</th>\n",
       "      <th>X-Folder</th>\n",
       "      <th>body</th>\n",
       "    </tr>\n",
       "  </thead>\n",
       "  <tbody>\n",
       "    <tr>\n",
       "      <th>0</th>\n",
       "      <td>2000 10 Desk Analysis</td>\n",
       "      <td>discussion threads</td>\n",
       "      <td>Here is the Desk Analysis - breakdown of 2000 ...</td>\n",
       "    </tr>\n",
       "    <tr>\n",
       "      <th>1</th>\n",
       "      <td>Name Change-BP Energy Company</td>\n",
       "      <td>discussion threads</td>\n",
       "      <td>---------------------- Forwarded by Rhonda L D...</td>\n",
       "    </tr>\n",
       "    <tr>\n",
       "      <th>2</th>\n",
       "      <td>2000 11 Flash Report</td>\n",
       "      <td>discussion threads</td>\n",
       "      <td>Here is the 2000 11 Final Flash Report.  Let m...</td>\n",
       "    </tr>\n",
       "    <tr>\n",
       "      <th>3</th>\n",
       "      <td>Power LTD Rec</td>\n",
       "      <td>discussion threads</td>\n",
       "      <td>Attached is the November LTD reconciliation.  ...</td>\n",
       "    </tr>\n",
       "    <tr>\n",
       "      <th>4</th>\n",
       "      <td>Revised LTD</td>\n",
       "      <td>discussion threads</td>\n",
       "      <td>Attached is a revised LTD file.\\n</td>\n",
       "    </tr>\n",
       "  </tbody>\n",
       "</table>\n",
       "</div>"
      ],
      "text/plain": [
       "                         subject            X-Folder  \\\n",
       "0          2000 10 Desk Analysis  discussion threads   \n",
       "1  Name Change-BP Energy Company  discussion threads   \n",
       "2           2000 11 Flash Report  discussion threads   \n",
       "3                  Power LTD Rec  discussion threads   \n",
       "4                    Revised LTD  discussion threads   \n",
       "\n",
       "                                                body  \n",
       "0  Here is the Desk Analysis - breakdown of 2000 ...  \n",
       "1  ---------------------- Forwarded by Rhonda L D...  \n",
       "2  Here is the 2000 11 Final Flash Report.  Let m...  \n",
       "3  Attached is the November LTD reconciliation.  ...  \n",
       "4                  Attached is a revised LTD file.\\n  "
      ]
     },
     "execution_count": 471,
     "metadata": {},
     "output_type": "execute_result"
    }
   ],
   "source": [
    "df.head()"
   ]
  },
  {
   "cell_type": "code",
   "execution_count": 473,
   "id": "4ee339a6-e325-4837-8b0c-9354a00cd593",
   "metadata": {},
   "outputs": [],
   "source": [
    "# save the data\n",
    "df.to_csv(\"cleaned_data.csv\", index=False)"
   ]
  },
  {
   "cell_type": "code",
   "execution_count": 488,
   "id": "6c5af36f-5391-4676-b972-4f9d7144edcf",
   "metadata": {},
   "outputs": [],
   "source": [
    "df_copy = df"
   ]
  },
  {
   "cell_type": "markdown",
   "id": "d26fa50c-bd2e-41ec-8b78-b557da2f1259",
   "metadata": {},
   "source": [
    " "
   ]
  },
  {
   "cell_type": "markdown",
   "id": "09fd7e54-6a31-4bf4-9a37-b299a02c667d",
   "metadata": {},
   "source": [
    " "
   ]
  },
  {
   "cell_type": "markdown",
   "id": "b19c7cfe-5b82-4d5e-a794-7e396b073ba8",
   "metadata": {},
   "source": [
    " "
   ]
  },
  {
   "cell_type": "markdown",
   "id": "cdb0ca3b-e29d-4563-a66a-a3c97a4fd283",
   "metadata": {},
   "source": [
    "## II. Anwendung von Machine Learning Methoden und deren Interpretation"
   ]
  },
  {
   "cell_type": "markdown",
   "id": "8a95954f-003f-4719-b199-3a8d7c2558da",
   "metadata": {},
   "source": [
    "### Data Pre-processing"
   ]
  },
  {
   "cell_type": "markdown",
   "id": "40bfffc0-3b6e-436f-824b-ae9a855df29b",
   "metadata": {},
   "source": [
    "Eliminate folders with insufficient emails, as they will not contribute significantly to training our classifier. Additionally, folders with a very small number of emails are likely to have been created but remain unused."
   ]
  },
  {
   "cell_type": "code",
   "execution_count": 478,
   "id": "176146e3-c2b5-4727-acb8-1fb8b89f462f",
   "metadata": {},
   "outputs": [
    {
     "name": "stderr",
     "output_type": "stream",
     "text": [
      "[nltk_data] Downloading package stopwords to\n",
      "[nltk_data]     /Users/paulschumacher/nltk_data...\n",
      "[nltk_data]   Package stopwords is already up-to-date!\n"
     ]
    },
    {
     "data": {
      "text/plain": [
       "True"
      ]
     },
     "execution_count": 478,
     "metadata": {},
     "output_type": "execute_result"
    }
   ],
   "source": [
    "import nltk\n",
    "nltk.download('stopwords')"
   ]
  },
  {
   "cell_type": "code",
   "execution_count": 480,
   "id": "b6cb7372-be6c-48ff-88d0-b7561a7fe4bf",
   "metadata": {},
   "outputs": [],
   "source": [
    "import matplotlib.pyplot as plt\n",
    "import re\n",
    "import string\n",
    "import time\n",
    "pd.set_option('display.max_rows', 50)\n",
    "\n",
    "from nltk.corpus import stopwords\n",
    "stop = stopwords.words('english')\n",
    "\n",
    "from sklearn.preprocessing import LabelEncoder\n",
    "from sklearn.feature_extraction.text import CountVectorizer\n",
    "from sklearn.feature_extraction.text import TfidfVectorizer\n",
    "from sklearn.model_selection import cross_validate\n",
    "\n",
    "from sklearn.naive_bayes import MultinomialNB, GaussianNB\n",
    "from sklearn.tree import DecisionTreeClassifier\n",
    "from sklearn.svm import LinearSVC\n",
    "from sklearn.ensemble import AdaBoostClassifier\n",
    "from sklearn.neural_network import MLPClassifier"
   ]
  },
  {
   "cell_type": "code",
   "execution_count": 484,
   "id": "8f5c37dc-3dfc-4ad5-a50f-8f2dc503023e",
   "metadata": {},
   "outputs": [],
   "source": [
    "def remove_folders(emails, n):\n",
    "    # returns the number of folders containing more than 'n' number of emails\n",
    "    email_count = dict(df['X-Folder'].value_counts())\n",
    "    small_folders = [key for key, val in email_count.items() if val<=n]\n",
    "    emails = df.loc[~df['X-Folder'].isin(small_folders)]\n",
    "    return emails"
   ]
  },
  {
   "cell_type": "code",
   "execution_count": 498,
   "id": "95ea8477-b650-4b16-be6e-bbaf9cd3b4e8",
   "metadata": {},
   "outputs": [],
   "source": [
    "n = 50\n",
    "df_copy = remove_folders(df_copy, n)"
   ]
  },
  {
   "cell_type": "code",
   "execution_count": 500,
   "id": "5b329804-5afc-4c52-b7a4-abf3e699e436",
   "metadata": {},
   "outputs": [
    {
     "data": {
      "text/html": [
       "<div>\n",
       "<style scoped>\n",
       "    .dataframe tbody tr th:only-of-type {\n",
       "        vertical-align: middle;\n",
       "    }\n",
       "\n",
       "    .dataframe tbody tr th {\n",
       "        vertical-align: top;\n",
       "    }\n",
       "\n",
       "    .dataframe thead th {\n",
       "        text-align: right;\n",
       "    }\n",
       "</style>\n",
       "<table border=\"1\" class=\"dataframe\">\n",
       "  <thead>\n",
       "    <tr style=\"text-align: right;\">\n",
       "      <th></th>\n",
       "      <th>subject</th>\n",
       "      <th>X-Folder</th>\n",
       "      <th>body</th>\n",
       "    </tr>\n",
       "  </thead>\n",
       "  <tbody>\n",
       "    <tr>\n",
       "      <th>0</th>\n",
       "      <td>2000 10 Desk Analysis</td>\n",
       "      <td>discussion threads</td>\n",
       "      <td>Here is the Desk Analysis - breakdown of 2000 ...</td>\n",
       "    </tr>\n",
       "    <tr>\n",
       "      <th>1</th>\n",
       "      <td>Name Change-BP Energy Company</td>\n",
       "      <td>discussion threads</td>\n",
       "      <td>---------------------- Forwarded by Rhonda L D...</td>\n",
       "    </tr>\n",
       "    <tr>\n",
       "      <th>2</th>\n",
       "      <td>2000 11 Flash Report</td>\n",
       "      <td>discussion threads</td>\n",
       "      <td>Here is the 2000 11 Final Flash Report.  Let m...</td>\n",
       "    </tr>\n",
       "    <tr>\n",
       "      <th>3</th>\n",
       "      <td>Power LTD Rec</td>\n",
       "      <td>discussion threads</td>\n",
       "      <td>Attached is the November LTD reconciliation.  ...</td>\n",
       "    </tr>\n",
       "    <tr>\n",
       "      <th>4</th>\n",
       "      <td>Revised LTD</td>\n",
       "      <td>discussion threads</td>\n",
       "      <td>Attached is a revised LTD file.\\n</td>\n",
       "    </tr>\n",
       "    <tr>\n",
       "      <th>...</th>\n",
       "      <td>...</td>\n",
       "      <td>...</td>\n",
       "      <td>...</td>\n",
       "    </tr>\n",
       "    <tr>\n",
       "      <th>12269</th>\n",
       "      <td>Trade with John Lavorato</td>\n",
       "      <td>sent items</td>\n",
       "      <td>This is a trade with OIL-SPEC-HEDGE-NG (John L...</td>\n",
       "    </tr>\n",
       "    <tr>\n",
       "      <th>12270</th>\n",
       "      <td>Gas Hedges</td>\n",
       "      <td>sent items</td>\n",
       "      <td>Some of my position is with the Alberta Term b...</td>\n",
       "    </tr>\n",
       "    <tr>\n",
       "      <th>12271</th>\n",
       "      <td>RE: CONFIDENTIAL</td>\n",
       "      <td>sent items</td>\n",
       "      <td>2\\n\\n -----Original Message-----\\nFrom: \\tDouc...</td>\n",
       "    </tr>\n",
       "    <tr>\n",
       "      <th>12272</th>\n",
       "      <td>Calgary Analyst/Associate</td>\n",
       "      <td>sent items</td>\n",
       "      <td>Analyst\\t\\t\\t\\t\\tRank\\n\\nStephane Brodeur\\t\\t\\...</td>\n",
       "    </tr>\n",
       "    <tr>\n",
       "      <th>12273</th>\n",
       "      <td>RE: ali's essays</td>\n",
       "      <td>sent items</td>\n",
       "      <td>i think the YMCA has a class that is for peopl...</td>\n",
       "    </tr>\n",
       "  </tbody>\n",
       "</table>\n",
       "<p>10085 rows × 3 columns</p>\n",
       "</div>"
      ],
      "text/plain": [
       "                             subject            X-Folder  \\\n",
       "0              2000 10 Desk Analysis  discussion threads   \n",
       "1      Name Change-BP Energy Company  discussion threads   \n",
       "2               2000 11 Flash Report  discussion threads   \n",
       "3                      Power LTD Rec  discussion threads   \n",
       "4                        Revised LTD  discussion threads   \n",
       "...                              ...                 ...   \n",
       "12269       Trade with John Lavorato          sent items   \n",
       "12270                     Gas Hedges          sent items   \n",
       "12271               RE: CONFIDENTIAL          sent items   \n",
       "12272      Calgary Analyst/Associate          sent items   \n",
       "12273               RE: ali's essays          sent items   \n",
       "\n",
       "                                                    body  \n",
       "0      Here is the Desk Analysis - breakdown of 2000 ...  \n",
       "1      ---------------------- Forwarded by Rhonda L D...  \n",
       "2      Here is the 2000 11 Final Flash Report.  Let m...  \n",
       "3      Attached is the November LTD reconciliation.  ...  \n",
       "4                      Attached is a revised LTD file.\\n  \n",
       "...                                                  ...  \n",
       "12269  This is a trade with OIL-SPEC-HEDGE-NG (John L...  \n",
       "12270  Some of my position is with the Alberta Term b...  \n",
       "12271  2\\n\\n -----Original Message-----\\nFrom: \\tDouc...  \n",
       "12272  Analyst\\t\\t\\t\\t\\tRank\\n\\nStephane Brodeur\\t\\t\\...  \n",
       "12273  i think the YMCA has a class that is for peopl...  \n",
       "\n",
       "[10085 rows x 3 columns]"
      ]
     },
     "execution_count": 500,
     "metadata": {},
     "output_type": "execute_result"
    }
   ],
   "source": [
    "df_copy"
   ]
  },
  {
   "cell_type": "code",
   "execution_count": 502,
   "id": "be469b4a-2fd9-4806-996e-b9bb1df0213a",
   "metadata": {},
   "outputs": [
    {
     "name": "stdout",
     "output_type": "stream",
     "text": [
      "Total folders:  17\n",
      "df.shape:  (10085, 3)\n"
     ]
    }
   ],
   "source": [
    "print(\"Total folders: \", len(df_copy['X-Folder'].unique()))\n",
    "print(\"df.shape: \", df_copy.shape)"
   ]
  },
  {
   "cell_type": "markdown",
   "id": "7e04b02e-b4f1-450d-befb-059c3a4d6da2",
   "metadata": {},
   "source": [
    "#### Combine Subject and Body column"
   ]
  },
  {
   "cell_type": "code",
   "execution_count": 504,
   "id": "dd5846cb-da53-4638-9d16-4abfebd04dae",
   "metadata": {},
   "outputs": [],
   "source": [
    "df_copy['text'] = df_copy['subject'] + \" \" + df_copy['body']"
   ]
  },
  {
   "cell_type": "code",
   "execution_count": 514,
   "id": "b32112c7-965e-4337-9603-f7a1a4f2c555",
   "metadata": {},
   "outputs": [
    {
     "data": {
      "text/html": [
       "<div>\n",
       "<style scoped>\n",
       "    .dataframe tbody tr th:only-of-type {\n",
       "        vertical-align: middle;\n",
       "    }\n",
       "\n",
       "    .dataframe tbody tr th {\n",
       "        vertical-align: top;\n",
       "    }\n",
       "\n",
       "    .dataframe thead th {\n",
       "        text-align: right;\n",
       "    }\n",
       "</style>\n",
       "<table border=\"1\" class=\"dataframe\">\n",
       "  <thead>\n",
       "    <tr style=\"text-align: right;\">\n",
       "      <th></th>\n",
       "      <th>X-Folder</th>\n",
       "      <th>text</th>\n",
       "    </tr>\n",
       "  </thead>\n",
       "  <tbody>\n",
       "    <tr>\n",
       "      <th>0</th>\n",
       "      <td>discussion threads</td>\n",
       "      <td>2000 10 Desk Analysis Here is the Desk Analysi...</td>\n",
       "    </tr>\n",
       "    <tr>\n",
       "      <th>1</th>\n",
       "      <td>discussion threads</td>\n",
       "      <td>Name Change-BP Energy Company ----------------...</td>\n",
       "    </tr>\n",
       "    <tr>\n",
       "      <th>2</th>\n",
       "      <td>discussion threads</td>\n",
       "      <td>2000 11 Flash Report Here is the 2000 11 Final...</td>\n",
       "    </tr>\n",
       "    <tr>\n",
       "      <th>3</th>\n",
       "      <td>discussion threads</td>\n",
       "      <td>Power LTD Rec Attached is the November LTD rec...</td>\n",
       "    </tr>\n",
       "    <tr>\n",
       "      <th>4</th>\n",
       "      <td>discussion threads</td>\n",
       "      <td>Revised LTD Attached is a revised LTD file.\\n</td>\n",
       "    </tr>\n",
       "    <tr>\n",
       "      <th>...</th>\n",
       "      <td>...</td>\n",
       "      <td>...</td>\n",
       "    </tr>\n",
       "    <tr>\n",
       "      <th>12269</th>\n",
       "      <td>sent items</td>\n",
       "      <td>Trade with John Lavorato This is a trade with ...</td>\n",
       "    </tr>\n",
       "    <tr>\n",
       "      <th>12270</th>\n",
       "      <td>sent items</td>\n",
       "      <td>Gas Hedges Some of my position is with the Alb...</td>\n",
       "    </tr>\n",
       "    <tr>\n",
       "      <th>12271</th>\n",
       "      <td>sent items</td>\n",
       "      <td>RE: CONFIDENTIAL 2\\n\\n -----Original Message--...</td>\n",
       "    </tr>\n",
       "    <tr>\n",
       "      <th>12272</th>\n",
       "      <td>sent items</td>\n",
       "      <td>Calgary Analyst/Associate Analyst\\t\\t\\t\\t\\tRan...</td>\n",
       "    </tr>\n",
       "    <tr>\n",
       "      <th>12273</th>\n",
       "      <td>sent items</td>\n",
       "      <td>RE: ali's essays i think the YMCA has a class ...</td>\n",
       "    </tr>\n",
       "  </tbody>\n",
       "</table>\n",
       "<p>10085 rows × 2 columns</p>\n",
       "</div>"
      ],
      "text/plain": [
       "                 X-Folder                                               text\n",
       "0      discussion threads  2000 10 Desk Analysis Here is the Desk Analysi...\n",
       "1      discussion threads  Name Change-BP Energy Company ----------------...\n",
       "2      discussion threads  2000 11 Flash Report Here is the 2000 11 Final...\n",
       "3      discussion threads  Power LTD Rec Attached is the November LTD rec...\n",
       "4      discussion threads      Revised LTD Attached is a revised LTD file.\\n\n",
       "...                   ...                                                ...\n",
       "12269          sent items  Trade with John Lavorato This is a trade with ...\n",
       "12270          sent items  Gas Hedges Some of my position is with the Alb...\n",
       "12271          sent items  RE: CONFIDENTIAL 2\\n\\n -----Original Message--...\n",
       "12272          sent items  Calgary Analyst/Associate Analyst\\t\\t\\t\\t\\tRan...\n",
       "12273          sent items  RE: ali's essays i think the YMCA has a class ...\n",
       "\n",
       "[10085 rows x 2 columns]"
      ]
     },
     "execution_count": 514,
     "metadata": {},
     "output_type": "execute_result"
    }
   ],
   "source": [
    "df_copy"
   ]
  },
  {
   "cell_type": "code",
   "execution_count": 512,
   "id": "77c08bf4-49dd-4b42-ba0e-a91e7f6ba3e6",
   "metadata": {},
   "outputs": [],
   "source": [
    "# drop the columns 'subject' and 'body'\n",
    "df_copy.drop(['subject','body'], axis=1, inplace=True)"
   ]
  },
  {
   "cell_type": "markdown",
   "id": "9540808c-f1fb-4738-98d5-89021420dc9d",
   "metadata": {},
   "source": [
    "Lowercasing all words, Remove extra new lines, Remove extra tabs, punctuations, commas, Remove extra white spaces, Remove stopwords"
   ]
  },
  {
   "cell_type": "code",
   "execution_count": 516,
   "id": "a4506ad1-f939-461f-8927-9f2831087dc4",
   "metadata": {},
   "outputs": [],
   "source": [
    "def preprocess(x):\n",
    "    # lowercasing all the words\n",
    "    x = x.lower()\n",
    "    \n",
    "    # remove extra new lines\n",
    "    x = re.sub(r'\\n+', ' ', x)\n",
    "    \n",
    "    # removing (replacing with empty spaces actually) all the punctuations\n",
    "    x = re.sub(\"[\"+string.punctuation+\"]\", \" \", x)\n",
    "    \n",
    "    # remove extra white spaces\n",
    "    x = re.sub(r'\\s+', ' ', x)\n",
    "    \n",
    "    return x"
   ]
  },
  {
   "cell_type": "code",
   "execution_count": 518,
   "id": "f264b8d5-1582-45a0-95be-59502ed94e45",
   "metadata": {},
   "outputs": [
    {
     "name": "stdout",
     "output_type": "stream",
     "text": [
      "Execution time (sec):  2.028820037841797\n"
     ]
    }
   ],
   "source": [
    "start = time.time()\n",
    "df_copy.loc[:,'text'] = df_copy.loc[:, 'text'].map(preprocess)\n",
    "\n",
    "# remove stopwords\n",
    "df_copy.loc[:, 'text'] = df_copy.loc[:, 'text'].apply(lambda x: ' '.join([word for word in x.split() if word not in stop]))\n",
    "end = time.time()\n",
    "print(\"Execution time (sec): \",(end - start))"
   ]
  },
  {
   "cell_type": "code",
   "execution_count": 520,
   "id": "255fc37c-f5c9-4ab4-8dd6-3efe7e84708a",
   "metadata": {},
   "outputs": [
    {
     "data": {
      "text/html": [
       "<div>\n",
       "<style scoped>\n",
       "    .dataframe tbody tr th:only-of-type {\n",
       "        vertical-align: middle;\n",
       "    }\n",
       "\n",
       "    .dataframe tbody tr th {\n",
       "        vertical-align: top;\n",
       "    }\n",
       "\n",
       "    .dataframe thead th {\n",
       "        text-align: right;\n",
       "    }\n",
       "</style>\n",
       "<table border=\"1\" class=\"dataframe\">\n",
       "  <thead>\n",
       "    <tr style=\"text-align: right;\">\n",
       "      <th></th>\n",
       "      <th>X-Folder</th>\n",
       "      <th>text</th>\n",
       "    </tr>\n",
       "  </thead>\n",
       "  <tbody>\n",
       "    <tr>\n",
       "      <th>0</th>\n",
       "      <td>discussion threads</td>\n",
       "      <td>2000 10 desk analysis desk analysis breakdown ...</td>\n",
       "    </tr>\n",
       "    <tr>\n",
       "      <th>1</th>\n",
       "      <td>discussion threads</td>\n",
       "      <td>name change bp energy company forwarded rhonda...</td>\n",
       "    </tr>\n",
       "    <tr>\n",
       "      <th>2</th>\n",
       "      <td>discussion threads</td>\n",
       "      <td>2000 11 flash report 2000 11 final flash repor...</td>\n",
       "    </tr>\n",
       "    <tr>\n",
       "      <th>3</th>\n",
       "      <td>discussion threads</td>\n",
       "      <td>power ltd rec attached november ltd reconcilia...</td>\n",
       "    </tr>\n",
       "    <tr>\n",
       "      <th>4</th>\n",
       "      <td>discussion threads</td>\n",
       "      <td>revised ltd attached revised ltd file</td>\n",
       "    </tr>\n",
       "    <tr>\n",
       "      <th>...</th>\n",
       "      <td>...</td>\n",
       "      <td>...</td>\n",
       "    </tr>\n",
       "    <tr>\n",
       "      <th>12269</th>\n",
       "      <td>sent items</td>\n",
       "      <td>trade john lavorato trade oil spec hedge ng jo...</td>\n",
       "    </tr>\n",
       "    <tr>\n",
       "      <th>12270</th>\n",
       "      <td>sent items</td>\n",
       "      <td>gas hedges position alberta term book send pos...</td>\n",
       "    </tr>\n",
       "    <tr>\n",
       "      <th>12271</th>\n",
       "      <td>sent items</td>\n",
       "      <td>confidential 2 original message doucet dawn se...</td>\n",
       "    </tr>\n",
       "    <tr>\n",
       "      <th>12272</th>\n",
       "      <td>sent items</td>\n",
       "      <td>calgary analyst associate analyst rank stephan...</td>\n",
       "    </tr>\n",
       "    <tr>\n",
       "      <th>12273</th>\n",
       "      <td>sent items</td>\n",
       "      <td>ali essays think ymca class people recovering ...</td>\n",
       "    </tr>\n",
       "  </tbody>\n",
       "</table>\n",
       "<p>10085 rows × 2 columns</p>\n",
       "</div>"
      ],
      "text/plain": [
       "                 X-Folder                                               text\n",
       "0      discussion threads  2000 10 desk analysis desk analysis breakdown ...\n",
       "1      discussion threads  name change bp energy company forwarded rhonda...\n",
       "2      discussion threads  2000 11 flash report 2000 11 final flash repor...\n",
       "3      discussion threads  power ltd rec attached november ltd reconcilia...\n",
       "4      discussion threads              revised ltd attached revised ltd file\n",
       "...                   ...                                                ...\n",
       "12269          sent items  trade john lavorato trade oil spec hedge ng jo...\n",
       "12270          sent items  gas hedges position alberta term book send pos...\n",
       "12271          sent items  confidential 2 original message doucet dawn se...\n",
       "12272          sent items  calgary analyst associate analyst rank stephan...\n",
       "12273          sent items  ali essays think ymca class people recovering ...\n",
       "\n",
       "[10085 rows x 2 columns]"
      ]
     },
     "execution_count": 520,
     "metadata": {},
     "output_type": "execute_result"
    }
   ],
   "source": [
    "df_copy"
   ]
  },
  {
   "cell_type": "markdown",
   "id": "7a18c2c4-703c-43e5-8393-cb86d809c7ad",
   "metadata": {},
   "source": [
    "Randomly select any 20 folders for categorization because of very high training time and computational cost"
   ]
  },
  {
   "cell_type": "code",
   "execution_count": 522,
   "id": "92d5877b-f2b8-48a0-a340-0df90c9d8619",
   "metadata": {},
   "outputs": [
    {
     "name": "stdout",
     "output_type": "stream",
     "text": [
      "Execution time (sec):  0.003980875015258789\n"
     ]
    }
   ],
   "source": [
    "start = time.time()\n",
    "folders_dict = dict(df_copy['X-Folder'].value_counts().sort_values()[50:70])\n",
    "data = df_copy[df_copy['X-Folder'].isin(folders_dict.keys())]\n",
    "end = time.time()\n",
    "print(\"Execution time (sec): \",(end - start))"
   ]
  },
  {
   "cell_type": "code",
   "execution_count": 524,
   "id": "de495263-d082-4cf0-8ec1-291d3c6f7021",
   "metadata": {},
   "outputs": [
    {
     "data": {
      "text/html": [
       "<div>\n",
       "<style scoped>\n",
       "    .dataframe tbody tr th:only-of-type {\n",
       "        vertical-align: middle;\n",
       "    }\n",
       "\n",
       "    .dataframe tbody tr th {\n",
       "        vertical-align: top;\n",
       "    }\n",
       "\n",
       "    .dataframe thead th {\n",
       "        text-align: right;\n",
       "    }\n",
       "</style>\n",
       "<table border=\"1\" class=\"dataframe\">\n",
       "  <thead>\n",
       "    <tr style=\"text-align: right;\">\n",
       "      <th></th>\n",
       "      <th>X-Folder</th>\n",
       "      <th>text</th>\n",
       "    </tr>\n",
       "  </thead>\n",
       "  <tbody>\n",
       "    <tr>\n",
       "      <th>0</th>\n",
       "      <td>discussion threads</td>\n",
       "      <td>2000 10 desk analysis desk analysis breakdown ...</td>\n",
       "    </tr>\n",
       "    <tr>\n",
       "      <th>1</th>\n",
       "      <td>discussion threads</td>\n",
       "      <td>name change bp energy company forwarded rhonda...</td>\n",
       "    </tr>\n",
       "    <tr>\n",
       "      <th>2</th>\n",
       "      <td>discussion threads</td>\n",
       "      <td>2000 11 flash report 2000 11 final flash repor...</td>\n",
       "    </tr>\n",
       "    <tr>\n",
       "      <th>3</th>\n",
       "      <td>discussion threads</td>\n",
       "      <td>power ltd rec attached november ltd reconcilia...</td>\n",
       "    </tr>\n",
       "    <tr>\n",
       "      <th>4</th>\n",
       "      <td>discussion threads</td>\n",
       "      <td>revised ltd attached revised ltd file</td>\n",
       "    </tr>\n",
       "    <tr>\n",
       "      <th>...</th>\n",
       "      <td>...</td>\n",
       "      <td>...</td>\n",
       "    </tr>\n",
       "    <tr>\n",
       "      <th>12269</th>\n",
       "      <td>sent items</td>\n",
       "      <td>trade john lavorato trade oil spec hedge ng jo...</td>\n",
       "    </tr>\n",
       "    <tr>\n",
       "      <th>12270</th>\n",
       "      <td>sent items</td>\n",
       "      <td>gas hedges position alberta term book send pos...</td>\n",
       "    </tr>\n",
       "    <tr>\n",
       "      <th>12271</th>\n",
       "      <td>sent items</td>\n",
       "      <td>confidential 2 original message doucet dawn se...</td>\n",
       "    </tr>\n",
       "    <tr>\n",
       "      <th>12272</th>\n",
       "      <td>sent items</td>\n",
       "      <td>calgary analyst associate analyst rank stephan...</td>\n",
       "    </tr>\n",
       "    <tr>\n",
       "      <th>12273</th>\n",
       "      <td>sent items</td>\n",
       "      <td>ali essays think ymca class people recovering ...</td>\n",
       "    </tr>\n",
       "  </tbody>\n",
       "</table>\n",
       "<p>10085 rows × 2 columns</p>\n",
       "</div>"
      ],
      "text/plain": [
       "                 X-Folder                                               text\n",
       "0      discussion threads  2000 10 desk analysis desk analysis breakdown ...\n",
       "1      discussion threads  name change bp energy company forwarded rhonda...\n",
       "2      discussion threads  2000 11 flash report 2000 11 final flash repor...\n",
       "3      discussion threads  power ltd rec attached november ltd reconcilia...\n",
       "4      discussion threads              revised ltd attached revised ltd file\n",
       "...                   ...                                                ...\n",
       "12269          sent items  trade john lavorato trade oil spec hedge ng jo...\n",
       "12270          sent items  gas hedges position alberta term book send pos...\n",
       "12271          sent items  confidential 2 original message doucet dawn se...\n",
       "12272          sent items  calgary analyst associate analyst rank stephan...\n",
       "12273          sent items  ali essays think ymca class people recovering ...\n",
       "\n",
       "[10085 rows x 2 columns]"
      ]
     },
     "execution_count": 524,
     "metadata": {},
     "output_type": "execute_result"
    }
   ],
   "source": [
    "df_copy"
   ]
  },
  {
   "cell_type": "code",
   "execution_count": 528,
   "id": "22cd20a8-e77e-48b7-8707-d61f1002b2bb",
   "metadata": {},
   "outputs": [
    {
     "name": "stdout",
     "output_type": "stream",
     "text": [
      "Number of instances:  10085\n"
     ]
    }
   ],
   "source": [
    "# check number of rows in the 'data' dataframe\n",
    "print(\"Number of instances: \", df_copy.shape[0])\n",
    "df_copy.to_csv('preprocessed.csv', index=False)"
   ]
  },
  {
   "cell_type": "code",
   "execution_count": 530,
   "id": "448c7c75-0db5-48aa-832d-8d90c8d44e9d",
   "metadata": {},
   "outputs": [],
   "source": [
    "data = pd.read_csv(\"preprocessed.csv\")"
   ]
  },
  {
   "cell_type": "markdown",
   "id": "0c1a577b-8baa-4fb0-a984-2bf8d987aa3d",
   "metadata": {},
   "source": [
    "#### Encode class labels"
   ]
  },
  {
   "cell_type": "code",
   "execution_count": 532,
   "id": "f52f6213-2433-4302-8390-874f46e0707a",
   "metadata": {},
   "outputs": [
    {
     "data": {
      "text/plain": [
       "X-Folder\n",
       "inbox                 2389\n",
       "sent items            2258\n",
       "schedule crawler      1396\n",
       "deleted items         1327\n",
       "bill williams iii     1004\n",
       "discussion threads     489\n",
       "all documents          473\n",
       "06-saved               107\n",
       "07-saved                93\n",
       "10-saved                87\n",
       "hr                      85\n",
       "symesees                76\n",
       "saved-04                65\n",
       "05-saved                63\n",
       "tradecounts             61\n",
       "legal                   56\n",
       "ecoelectrica            56\n",
       "Name: count, dtype: int64"
      ]
     },
     "execution_count": 532,
     "metadata": {},
     "output_type": "execute_result"
    }
   ],
   "source": [
    "data['X-Folder'].value_counts()"
   ]
  },
  {
   "cell_type": "code",
   "execution_count": 534,
   "id": "e0503138-cac7-40d1-9715-edf789e59d1a",
   "metadata": {},
   "outputs": [],
   "source": [
    "def label_encoder(data):\n",
    "    class_le = LabelEncoder()\n",
    "    # apply label encoder on the 'X-Folder' column\n",
    "    y = class_le.fit_transform(data['X-Folder'])\n",
    "    return y"
   ]
  },
  {
   "cell_type": "code",
   "execution_count": 536,
   "id": "fbab3195-e971-4cab-bf26-871600218ff6",
   "metadata": {},
   "outputs": [],
   "source": [
    "y = label_encoder(data)\n",
    "input_data = data['text']"
   ]
  },
  {
   "cell_type": "markdown",
   "id": "a9bfa9c5-051b-4f5b-bfbd-c57ffa44891b",
   "metadata": {},
   "source": [
    "### 1. Bag-of-Words"
   ]
  },
  {
   "cell_type": "code",
   "execution_count": 538,
   "id": "4625e1c3-f0fc-451b-9e85-98baf11f171a",
   "metadata": {},
   "outputs": [
    {
     "name": "stdout",
     "output_type": "stream",
     "text": [
      "Execution time (sec):  0.39790892601013184\n"
     ]
    }
   ],
   "source": [
    "start = time.time()\n",
    "vectorizer = CountVectorizer(min_df=5, max_features=5000)\n",
    "X = vectorizer.fit_transform(input_data)\n",
    "end = time.time()\n",
    "print(\"Execution time (sec): \",(end - start))"
   ]
  },
  {
   "cell_type": "code",
   "execution_count": 540,
   "id": "af18fbbb-c5ad-4961-b087-993d370cf4b0",
   "metadata": {},
   "outputs": [
    {
     "name": "stdout",
     "output_type": "stream",
     "text": [
      "X.shape:  (10085, 5000)\n",
      "Execution time (sec):  0.09089398384094238\n"
     ]
    }
   ],
   "source": [
    "start = time.time()\n",
    "X = X.toarray()\n",
    "print(\"X.shape: \",X.shape)\n",
    "end = time.time()\n",
    "print(\"Execution time (sec): \",(end - start))"
   ]
  },
  {
   "cell_type": "code",
   "execution_count": 542,
   "id": "74bbc6eb-4b02-4c24-b146-b2afca2f228e",
   "metadata": {},
   "outputs": [
    {
     "data": {
      "text/html": [
       "<div>\n",
       "<style scoped>\n",
       "    .dataframe tbody tr th:only-of-type {\n",
       "        vertical-align: middle;\n",
       "    }\n",
       "\n",
       "    .dataframe tbody tr th {\n",
       "        vertical-align: top;\n",
       "    }\n",
       "\n",
       "    .dataframe thead th {\n",
       "        text-align: right;\n",
       "    }\n",
       "</style>\n",
       "<table border=\"1\" class=\"dataframe\">\n",
       "  <thead>\n",
       "    <tr style=\"text-align: right;\">\n",
       "      <th></th>\n",
       "      <th>Algorithm</th>\n",
       "      <th>BoW</th>\n",
       "    </tr>\n",
       "  </thead>\n",
       "  <tbody>\n",
       "    <tr>\n",
       "      <th>0</th>\n",
       "      <td>Gaussian NB</td>\n",
       "      <td></td>\n",
       "    </tr>\n",
       "    <tr>\n",
       "      <th>1</th>\n",
       "      <td>Multinomial NB</td>\n",
       "      <td></td>\n",
       "    </tr>\n",
       "    <tr>\n",
       "      <th>2</th>\n",
       "      <td>Decision Tree</td>\n",
       "      <td></td>\n",
       "    </tr>\n",
       "    <tr>\n",
       "      <th>3</th>\n",
       "      <td>SVM</td>\n",
       "      <td></td>\n",
       "    </tr>\n",
       "    <tr>\n",
       "      <th>4</th>\n",
       "      <td>AdaBoost</td>\n",
       "      <td></td>\n",
       "    </tr>\n",
       "    <tr>\n",
       "      <th>5</th>\n",
       "      <td>ANN</td>\n",
       "      <td></td>\n",
       "    </tr>\n",
       "  </tbody>\n",
       "</table>\n",
       "</div>"
      ],
      "text/plain": [
       "        Algorithm BoW\n",
       "0     Gaussian NB    \n",
       "1  Multinomial NB    \n",
       "2   Decision Tree    \n",
       "3             SVM    \n",
       "4        AdaBoost    \n",
       "5             ANN    "
      ]
     },
     "execution_count": 542,
     "metadata": {},
     "output_type": "execute_result"
    }
   ],
   "source": [
    "# create dataframe to store results\n",
    "f1_data = {\n",
    "    'Algorithm': ['Gaussian NB', 'Multinomial NB','Decision Tree','SVM','AdaBoost','ANN'],\n",
    "    'BoW': ''\n",
    "}\n",
    "f1_df = pd.DataFrame(f1_data)\n",
    "\n",
    "jaccard_data = {\n",
    "    'Algorithm': ['Gaussian NB', 'Multinomial NB', 'Decision Tree','SVM','AdaBoost','ANN'],\n",
    "    'BoW': ''\n",
    "}\n",
    "jacc_df = pd.DataFrame(jaccard_data)\n",
    "\n",
    "acc_data = {\n",
    "    'Algorithm': ['Gaussian NB', 'Multinomial NB','Decision Tree','SVM','AdaBoost','ANN'],\n",
    "    'BoW': ''\n",
    "}\n",
    "acc_df = pd.DataFrame(acc_data)\n",
    "acc_df"
   ]
  },
  {
   "cell_type": "markdown",
   "id": "66f0f208-1d47-41c4-bd62-7cb7528f3153",
   "metadata": {},
   "source": [
    "#### Training and Evaluation"
   ]
  },
  {
   "cell_type": "code",
   "execution_count": 586,
   "id": "9fd38991-6522-45c2-bc1f-2ce4601e5e2e",
   "metadata": {},
   "outputs": [
    {
     "name": "stdout",
     "output_type": "stream",
     "text": [
      "Gaussian NB\n",
      "accuracy:  0.4312191270627842\n",
      "f1_score:  0.30230527758300213\n",
      "Jaccard_index:  0.2228252155996596\n",
      "time (sec):  2.876478910446167\n",
      "\n",
      "\n",
      "Multinomial NB\n",
      "accuracy:  0.5214520702565797\n",
      "f1_score:  0.2512303539827826\n",
      "Jaccard_index:  0.2000250616473755\n",
      "time (sec):  0.8242282867431641\n",
      "\n",
      "\n",
      "Decision Tree\n",
      "accuracy:  0.4953756469551812\n",
      "f1_score:  0.3284293715265694\n",
      "Jaccard_index:  0.2537823978073632\n",
      "time (sec):  16.66692805290222\n",
      "\n",
      "\n",
      "SVM\n"
     ]
    },
    {
     "name": "stderr",
     "output_type": "stream",
     "text": [
      "/opt/anaconda3/lib/python3.12/site-packages/sklearn/svm/_classes.py:31: FutureWarning: The default value of `dual` will change from `True` to `'auto'` in 1.5. Set the value of `dual` explicitly to suppress the warning.\n",
      "  warnings.warn(\n",
      "/opt/anaconda3/lib/python3.12/site-packages/sklearn/svm/_classes.py:31: FutureWarning: The default value of `dual` will change from `True` to `'auto'` in 1.5. Set the value of `dual` explicitly to suppress the warning.\n",
      "  warnings.warn(\n",
      "/opt/anaconda3/lib/python3.12/site-packages/sklearn/svm/_classes.py:31: FutureWarning: The default value of `dual` will change from `True` to `'auto'` in 1.5. Set the value of `dual` explicitly to suppress the warning.\n",
      "  warnings.warn(\n",
      "/opt/anaconda3/lib/python3.12/site-packages/sklearn/svm/_classes.py:31: FutureWarning: The default value of `dual` will change from `True` to `'auto'` in 1.5. Set the value of `dual` explicitly to suppress the warning.\n",
      "  warnings.warn(\n",
      "/opt/anaconda3/lib/python3.12/site-packages/sklearn/svm/_classes.py:31: FutureWarning: The default value of `dual` will change from `True` to `'auto'` in 1.5. Set the value of `dual` explicitly to suppress the warning.\n",
      "  warnings.warn(\n",
      "/opt/anaconda3/lib/python3.12/site-packages/sklearn/svm/_classes.py:31: FutureWarning: The default value of `dual` will change from `True` to `'auto'` in 1.5. Set the value of `dual` explicitly to suppress the warning.\n",
      "  warnings.warn(\n",
      "/opt/anaconda3/lib/python3.12/site-packages/sklearn/svm/_classes.py:31: FutureWarning: The default value of `dual` will change from `True` to `'auto'` in 1.5. Set the value of `dual` explicitly to suppress the warning.\n",
      "  warnings.warn(\n",
      "/opt/anaconda3/lib/python3.12/site-packages/sklearn/svm/_classes.py:31: FutureWarning: The default value of `dual` will change from `True` to `'auto'` in 1.5. Set the value of `dual` explicitly to suppress the warning.\n",
      "  warnings.warn(\n",
      "/opt/anaconda3/lib/python3.12/site-packages/sklearn/svm/_classes.py:31: FutureWarning: The default value of `dual` will change from `True` to `'auto'` in 1.5. Set the value of `dual` explicitly to suppress the warning.\n",
      "  warnings.warn(\n",
      "/opt/anaconda3/lib/python3.12/site-packages/sklearn/svm/_classes.py:31: FutureWarning: The default value of `dual` will change from `True` to `'auto'` in 1.5. Set the value of `dual` explicitly to suppress the warning.\n",
      "  warnings.warn(\n"
     ]
    },
    {
     "name": "stdout",
     "output_type": "stream",
     "text": [
      "accuracy:  0.5303754306479778\n",
      "f1_score:  0.3693644140569221\n",
      "Jaccard_index:  0.295482450176062\n",
      "time (sec):  2.2279491424560547\n",
      "\n",
      "\n",
      "AdaBoost\n"
     ]
    },
    {
     "name": "stderr",
     "output_type": "stream",
     "text": [
      "/opt/anaconda3/lib/python3.12/site-packages/sklearn/ensemble/_weight_boosting.py:519: FutureWarning: The SAMME.R algorithm (the default) is deprecated and will be removed in 1.6. Use the SAMME algorithm to circumvent this warning.\n",
      "  warnings.warn(\n",
      "/opt/anaconda3/lib/python3.12/site-packages/sklearn/ensemble/_weight_boosting.py:519: FutureWarning: The SAMME.R algorithm (the default) is deprecated and will be removed in 1.6. Use the SAMME algorithm to circumvent this warning.\n",
      "  warnings.warn(\n",
      "/opt/anaconda3/lib/python3.12/site-packages/sklearn/ensemble/_weight_boosting.py:519: FutureWarning: The SAMME.R algorithm (the default) is deprecated and will be removed in 1.6. Use the SAMME algorithm to circumvent this warning.\n",
      "  warnings.warn(\n",
      "/opt/anaconda3/lib/python3.12/site-packages/sklearn/ensemble/_weight_boosting.py:519: FutureWarning: The SAMME.R algorithm (the default) is deprecated and will be removed in 1.6. Use the SAMME algorithm to circumvent this warning.\n",
      "  warnings.warn(\n",
      "/opt/anaconda3/lib/python3.12/site-packages/sklearn/ensemble/_weight_boosting.py:519: FutureWarning: The SAMME.R algorithm (the default) is deprecated and will be removed in 1.6. Use the SAMME algorithm to circumvent this warning.\n",
      "  warnings.warn(\n",
      "/opt/anaconda3/lib/python3.12/site-packages/sklearn/ensemble/_weight_boosting.py:519: FutureWarning: The SAMME.R algorithm (the default) is deprecated and will be removed in 1.6. Use the SAMME algorithm to circumvent this warning.\n",
      "  warnings.warn(\n",
      "/opt/anaconda3/lib/python3.12/site-packages/sklearn/ensemble/_weight_boosting.py:519: FutureWarning: The SAMME.R algorithm (the default) is deprecated and will be removed in 1.6. Use the SAMME algorithm to circumvent this warning.\n",
      "  warnings.warn(\n",
      "/opt/anaconda3/lib/python3.12/site-packages/sklearn/ensemble/_weight_boosting.py:519: FutureWarning: The SAMME.R algorithm (the default) is deprecated and will be removed in 1.6. Use the SAMME algorithm to circumvent this warning.\n",
      "  warnings.warn(\n",
      "/opt/anaconda3/lib/python3.12/site-packages/sklearn/ensemble/_weight_boosting.py:519: FutureWarning: The SAMME.R algorithm (the default) is deprecated and will be removed in 1.6. Use the SAMME algorithm to circumvent this warning.\n",
      "  warnings.warn(\n",
      "/opt/anaconda3/lib/python3.12/site-packages/sklearn/ensemble/_weight_boosting.py:519: FutureWarning: The SAMME.R algorithm (the default) is deprecated and will be removed in 1.6. Use the SAMME algorithm to circumvent this warning.\n",
      "  warnings.warn(\n"
     ]
    },
    {
     "name": "stdout",
     "output_type": "stream",
     "text": [
      "accuracy:  0.37461546478518726\n",
      "f1_score:  0.0839091351740837\n",
      "Jaccard_index:  0.07444546974601957\n",
      "time (sec):  7.089763879776001\n",
      "\n",
      "\n",
      "ANN\n"
     ]
    },
    {
     "name": "stderr",
     "output_type": "stream",
     "text": [
      "/opt/anaconda3/lib/python3.12/site-packages/sklearn/neural_network/_multilayer_perceptron.py:691: ConvergenceWarning: Stochastic Optimizer: Maximum iterations (200) reached and the optimization hasn't converged yet.\n",
      "  warnings.warn(\n",
      "/opt/anaconda3/lib/python3.12/site-packages/sklearn/neural_network/_multilayer_perceptron.py:691: ConvergenceWarning: Stochastic Optimizer: Maximum iterations (200) reached and the optimization hasn't converged yet.\n",
      "  warnings.warn(\n",
      "/opt/anaconda3/lib/python3.12/site-packages/sklearn/neural_network/_multilayer_perceptron.py:691: ConvergenceWarning: Stochastic Optimizer: Maximum iterations (200) reached and the optimization hasn't converged yet.\n",
      "  warnings.warn(\n",
      "/opt/anaconda3/lib/python3.12/site-packages/sklearn/neural_network/_multilayer_perceptron.py:691: ConvergenceWarning: Stochastic Optimizer: Maximum iterations (200) reached and the optimization hasn't converged yet.\n",
      "  warnings.warn(\n",
      "/opt/anaconda3/lib/python3.12/site-packages/sklearn/neural_network/_multilayer_perceptron.py:691: ConvergenceWarning: Stochastic Optimizer: Maximum iterations (200) reached and the optimization hasn't converged yet.\n",
      "  warnings.warn(\n",
      "/opt/anaconda3/lib/python3.12/site-packages/sklearn/neural_network/_multilayer_perceptron.py:691: ConvergenceWarning: Stochastic Optimizer: Maximum iterations (200) reached and the optimization hasn't converged yet.\n",
      "  warnings.warn(\n",
      "/opt/anaconda3/lib/python3.12/site-packages/sklearn/neural_network/_multilayer_perceptron.py:691: ConvergenceWarning: Stochastic Optimizer: Maximum iterations (200) reached and the optimization hasn't converged yet.\n",
      "  warnings.warn(\n",
      "/opt/anaconda3/lib/python3.12/site-packages/sklearn/neural_network/_multilayer_perceptron.py:691: ConvergenceWarning: Stochastic Optimizer: Maximum iterations (200) reached and the optimization hasn't converged yet.\n",
      "  warnings.warn(\n",
      "/opt/anaconda3/lib/python3.12/site-packages/sklearn/neural_network/_multilayer_perceptron.py:691: ConvergenceWarning: Stochastic Optimizer: Maximum iterations (200) reached and the optimization hasn't converged yet.\n",
      "  warnings.warn(\n"
     ]
    },
    {
     "name": "stdout",
     "output_type": "stream",
     "text": [
      "accuracy:  0.5088610245882298\n",
      "f1_score:  0.3520717236463631\n",
      "Jaccard_index:  0.27943217404324994\n",
      "time (sec):  312.115357875824\n",
      "\n",
      "\n"
     ]
    },
    {
     "name": "stderr",
     "output_type": "stream",
     "text": [
      "/opt/anaconda3/lib/python3.12/site-packages/sklearn/neural_network/_multilayer_perceptron.py:691: ConvergenceWarning: Stochastic Optimizer: Maximum iterations (200) reached and the optimization hasn't converged yet.\n",
      "  warnings.warn(\n"
     ]
    },
    {
     "data": {
      "text/html": [
       "<div>\n",
       "<style scoped>\n",
       "    .dataframe tbody tr th:only-of-type {\n",
       "        vertical-align: middle;\n",
       "    }\n",
       "\n",
       "    .dataframe tbody tr th {\n",
       "        vertical-align: top;\n",
       "    }\n",
       "\n",
       "    .dataframe thead th {\n",
       "        text-align: right;\n",
       "    }\n",
       "</style>\n",
       "<table border=\"1\" class=\"dataframe\">\n",
       "  <thead>\n",
       "    <tr style=\"text-align: right;\">\n",
       "      <th></th>\n",
       "      <th>Algorithm</th>\n",
       "      <th>BoW</th>\n",
       "      <th>BoWBi</th>\n",
       "      <th>BoWBi_time</th>\n",
       "      <th>TfIdf</th>\n",
       "      <th>TfIdf_time</th>\n",
       "      <th>time</th>\n",
       "    </tr>\n",
       "  </thead>\n",
       "  <tbody>\n",
       "    <tr>\n",
       "      <th>0</th>\n",
       "      <td>Gaussian NB</td>\n",
       "      <td>0.431219</td>\n",
       "      <td>0.431219</td>\n",
       "      <td>15.617995</td>\n",
       "      <td>0.431219</td>\n",
       "      <td>2.544232</td>\n",
       "      <td>2.876479</td>\n",
       "    </tr>\n",
       "    <tr>\n",
       "      <th>1</th>\n",
       "      <td>Multinomial NB</td>\n",
       "      <td>0.521452</td>\n",
       "      <td>0.521452</td>\n",
       "      <td>0.941100</td>\n",
       "      <td>0.521452</td>\n",
       "      <td>0.810741</td>\n",
       "      <td>0.824228</td>\n",
       "    </tr>\n",
       "    <tr>\n",
       "      <th>2</th>\n",
       "      <td>Decision Tree</td>\n",
       "      <td>0.495376</td>\n",
       "      <td>0.495179</td>\n",
       "      <td>16.916599</td>\n",
       "      <td>0.499045</td>\n",
       "      <td>16.481796</td>\n",
       "      <td>16.666928</td>\n",
       "    </tr>\n",
       "    <tr>\n",
       "      <th>3</th>\n",
       "      <td>SVM</td>\n",
       "      <td>0.530375</td>\n",
       "      <td>0.530375</td>\n",
       "      <td>2.238423</td>\n",
       "      <td>0.530375</td>\n",
       "      <td>2.189868</td>\n",
       "      <td>2.227949</td>\n",
       "    </tr>\n",
       "    <tr>\n",
       "      <th>4</th>\n",
       "      <td>AdaBoost</td>\n",
       "      <td>0.374615</td>\n",
       "      <td>0.374615</td>\n",
       "      <td>7.316228</td>\n",
       "      <td>0.374615</td>\n",
       "      <td>7.087134</td>\n",
       "      <td>7.089764</td>\n",
       "    </tr>\n",
       "    <tr>\n",
       "      <th>5</th>\n",
       "      <td>ANN</td>\n",
       "      <td>0.508861</td>\n",
       "      <td>0.509951</td>\n",
       "      <td>193.321660</td>\n",
       "      <td>0.509852</td>\n",
       "      <td>275.853327</td>\n",
       "      <td>312.115358</td>\n",
       "    </tr>\n",
       "  </tbody>\n",
       "</table>\n",
       "</div>"
      ],
      "text/plain": [
       "        Algorithm       BoW     BoWBi  BoWBi_time     TfIdf  TfIdf_time  \\\n",
       "0     Gaussian NB  0.431219  0.431219   15.617995  0.431219    2.544232   \n",
       "1  Multinomial NB  0.521452  0.521452    0.941100  0.521452    0.810741   \n",
       "2   Decision Tree  0.495376  0.495179   16.916599  0.499045   16.481796   \n",
       "3             SVM  0.530375  0.530375    2.238423  0.530375    2.189868   \n",
       "4        AdaBoost  0.374615  0.374615    7.316228  0.374615    7.087134   \n",
       "5             ANN  0.508861  0.509951  193.321660  0.509852  275.853327   \n",
       "\n",
       "         time  \n",
       "0    2.876479  \n",
       "1    0.824228  \n",
       "2   16.666928  \n",
       "3    2.227949  \n",
       "4    7.089764  \n",
       "5  312.115358  "
      ]
     },
     "execution_count": 586,
     "metadata": {},
     "output_type": "execute_result"
    }
   ],
   "source": [
    "from sklearn.naive_bayes import GaussianNB, MultinomialNB\n",
    "from sklearn.tree import DecisionTreeClassifier\n",
    "from sklearn.svm import LinearSVC\n",
    "from sklearn.ensemble import AdaBoostClassifier\n",
    "from sklearn.neural_network import MLPClassifier\n",
    "from sklearn.model_selection import cross_validate\n",
    "import time\n",
    "\n",
    "models = [GaussianNB(), MultinomialNB(), DecisionTreeClassifier(), LinearSVC(),\n",
    "          AdaBoostClassifier(n_estimators=5),  # Removed base_estimator\n",
    "          MLPClassifier(hidden_layer_sizes=(10,))]\n",
    "\n",
    "names = [\"Gaussian NB\", \"Multinomial NB\", \"Decision Tree\", \"SVM\", \"AdaBoost\", \"ANN\"]\n",
    "\n",
    "jacc_scores = []\n",
    "acc_scores = []\n",
    "f1_scores = []\n",
    "exec_times = []\n",
    "\n",
    "for model, name in zip(models, names):\n",
    "    print(name)\n",
    "    start = time.time()\n",
    "    scoring = {\n",
    "        'accuracy': 'accuracy',\n",
    "        'f1_macro': 'f1_macro',\n",
    "        'jaccard_macro': 'jaccard_macro'\n",
    "    }\n",
    "    scores = cross_validate(model, X, y, cv=10, n_jobs=4, scoring=scoring)\n",
    "    training_time = (time.time() - start)\n",
    "    print(\"accuracy: \", scores['test_accuracy'].mean())\n",
    "    print(\"f1_score: \", scores['test_f1_macro'].mean())\n",
    "    print(\"Jaccard_index: \", scores['test_jaccard_macro'].mean())\n",
    "    print(\"time (sec): \", training_time)\n",
    "    print(\"\\n\")\n",
    "    \n",
    "    jacc_scores.append(scores['test_jaccard_macro'].mean())\n",
    "    acc_scores.append(scores['test_accuracy'].mean())\n",
    "    f1_scores.append(scores['test_f1_macro'].mean())\n",
    "    exec_times.append(training_time)\n",
    "    \n",
    "acc_df['BoW'] = acc_scores\n",
    "jacc_df['BoW'] = jacc_scores\n",
    "f1_df['BoW'] = f1_scores\n",
    "acc_df['time'] = exec_times\n",
    "acc_df"
   ]
  },
  {
   "cell_type": "code",
   "execution_count": 607,
   "id": "e95a0740-3cc0-4b27-9a96-d309cf904c2e",
   "metadata": {},
   "outputs": [],
   "source": [
    "# save the results\n",
    "acc_df.to_csv(\"accuracy.csv\", index=False)\n",
    "f1_df.to_csv(\"f1_score.csv\", index=False)\n",
    "jacc_df.to_csv(\"jacc_score.csv\", index=False)"
   ]
  },
  {
   "cell_type": "markdown",
   "id": "01cf662a-6744-4e0c-a358-bfe275d75eef",
   "metadata": {},
   "source": [
    "### 2. Bag-of-Words Bigram"
   ]
  },
  {
   "cell_type": "code",
   "execution_count": 550,
   "id": "3b484039-5a9c-4b38-8722-2c268a938a9e",
   "metadata": {},
   "outputs": [
    {
     "name": "stdout",
     "output_type": "stream",
     "text": [
      "X.shape:  (10085, 5000)\n",
      "Execution time (sec):  1.2685470581054688\n"
     ]
    }
   ],
   "source": [
    "start = time.time()\n",
    "vectorizer = CountVectorizer(min_df=5, max_features=5000, ngram_range=(2,2))\n",
    "X = vectorizer.fit_transform(input_data)\n",
    "\n",
    "X = X.toarray()\n",
    "print(\"X.shape: \",X.shape)\n",
    "\n",
    "end = time.time()\n",
    "print(\"Execution time (sec): \",(end - start))"
   ]
  },
  {
   "cell_type": "code",
   "execution_count": 570,
   "id": "a1b957ec-df2c-487a-9a76-fea5c6c46a05",
   "metadata": {},
   "outputs": [
    {
     "name": "stdout",
     "output_type": "stream",
     "text": [
      "Gaussian NB\n",
      "accuracy:  0.4312191270627842\n",
      "f1_score:  0.30230527758300213\n",
      "Jaccard_index:  0.2228252155996596\n",
      "time (sec):  15.617995023727417\n",
      "\n",
      "\n",
      "Multinomial NB\n",
      "accuracy:  0.5214520702565797\n",
      "f1_score:  0.2512303539827826\n",
      "Jaccard_index:  0.2000250616473755\n",
      "time (sec):  0.9411001205444336\n",
      "\n",
      "\n",
      "Decision Tree\n",
      "accuracy:  0.4951785124356977\n",
      "f1_score:  0.3255488940709098\n",
      "Jaccard_index:  0.25198063371428203\n",
      "time (sec):  16.916598796844482\n",
      "\n",
      "\n",
      "SVM\n"
     ]
    },
    {
     "name": "stderr",
     "output_type": "stream",
     "text": [
      "/opt/anaconda3/lib/python3.12/site-packages/sklearn/svm/_classes.py:31: FutureWarning: The default value of `dual` will change from `True` to `'auto'` in 1.5. Set the value of `dual` explicitly to suppress the warning.\n",
      "  warnings.warn(\n",
      "/opt/anaconda3/lib/python3.12/site-packages/sklearn/svm/_classes.py:31: FutureWarning: The default value of `dual` will change from `True` to `'auto'` in 1.5. Set the value of `dual` explicitly to suppress the warning.\n",
      "  warnings.warn(\n",
      "/opt/anaconda3/lib/python3.12/site-packages/sklearn/svm/_classes.py:31: FutureWarning: The default value of `dual` will change from `True` to `'auto'` in 1.5. Set the value of `dual` explicitly to suppress the warning.\n",
      "  warnings.warn(\n",
      "/opt/anaconda3/lib/python3.12/site-packages/sklearn/svm/_classes.py:31: FutureWarning: The default value of `dual` will change from `True` to `'auto'` in 1.5. Set the value of `dual` explicitly to suppress the warning.\n",
      "  warnings.warn(\n",
      "/opt/anaconda3/lib/python3.12/site-packages/sklearn/svm/_classes.py:31: FutureWarning: The default value of `dual` will change from `True` to `'auto'` in 1.5. Set the value of `dual` explicitly to suppress the warning.\n",
      "  warnings.warn(\n",
      "/opt/anaconda3/lib/python3.12/site-packages/sklearn/svm/_classes.py:31: FutureWarning: The default value of `dual` will change from `True` to `'auto'` in 1.5. Set the value of `dual` explicitly to suppress the warning.\n",
      "  warnings.warn(\n",
      "/opt/anaconda3/lib/python3.12/site-packages/sklearn/svm/_classes.py:31: FutureWarning: The default value of `dual` will change from `True` to `'auto'` in 1.5. Set the value of `dual` explicitly to suppress the warning.\n",
      "  warnings.warn(\n",
      "/opt/anaconda3/lib/python3.12/site-packages/sklearn/svm/_classes.py:31: FutureWarning: The default value of `dual` will change from `True` to `'auto'` in 1.5. Set the value of `dual` explicitly to suppress the warning.\n",
      "  warnings.warn(\n",
      "/opt/anaconda3/lib/python3.12/site-packages/sklearn/svm/_classes.py:31: FutureWarning: The default value of `dual` will change from `True` to `'auto'` in 1.5. Set the value of `dual` explicitly to suppress the warning.\n",
      "  warnings.warn(\n",
      "/opt/anaconda3/lib/python3.12/site-packages/sklearn/svm/_classes.py:31: FutureWarning: The default value of `dual` will change from `True` to `'auto'` in 1.5. Set the value of `dual` explicitly to suppress the warning.\n",
      "  warnings.warn(\n"
     ]
    },
    {
     "name": "stdout",
     "output_type": "stream",
     "text": [
      "accuracy:  0.5303754306479778\n",
      "f1_score:  0.3693644140569221\n",
      "Jaccard_index:  0.295482450176062\n",
      "time (sec):  2.2384231090545654\n",
      "\n",
      "\n",
      "AdaBoost\n"
     ]
    },
    {
     "name": "stderr",
     "output_type": "stream",
     "text": [
      "/opt/anaconda3/lib/python3.12/site-packages/sklearn/ensemble/_weight_boosting.py:519: FutureWarning: The SAMME.R algorithm (the default) is deprecated and will be removed in 1.6. Use the SAMME algorithm to circumvent this warning.\n",
      "  warnings.warn(\n",
      "/opt/anaconda3/lib/python3.12/site-packages/sklearn/ensemble/_weight_boosting.py:519: FutureWarning: The SAMME.R algorithm (the default) is deprecated and will be removed in 1.6. Use the SAMME algorithm to circumvent this warning.\n",
      "  warnings.warn(\n",
      "/opt/anaconda3/lib/python3.12/site-packages/sklearn/ensemble/_weight_boosting.py:519: FutureWarning: The SAMME.R algorithm (the default) is deprecated and will be removed in 1.6. Use the SAMME algorithm to circumvent this warning.\n",
      "  warnings.warn(\n",
      "/opt/anaconda3/lib/python3.12/site-packages/sklearn/ensemble/_weight_boosting.py:519: FutureWarning: The SAMME.R algorithm (the default) is deprecated and will be removed in 1.6. Use the SAMME algorithm to circumvent this warning.\n",
      "  warnings.warn(\n",
      "/opt/anaconda3/lib/python3.12/site-packages/sklearn/ensemble/_weight_boosting.py:519: FutureWarning: The SAMME.R algorithm (the default) is deprecated and will be removed in 1.6. Use the SAMME algorithm to circumvent this warning.\n",
      "  warnings.warn(\n",
      "/opt/anaconda3/lib/python3.12/site-packages/sklearn/ensemble/_weight_boosting.py:519: FutureWarning: The SAMME.R algorithm (the default) is deprecated and will be removed in 1.6. Use the SAMME algorithm to circumvent this warning.\n",
      "  warnings.warn(\n",
      "/opt/anaconda3/lib/python3.12/site-packages/sklearn/ensemble/_weight_boosting.py:519: FutureWarning: The SAMME.R algorithm (the default) is deprecated and will be removed in 1.6. Use the SAMME algorithm to circumvent this warning.\n",
      "  warnings.warn(\n",
      "/opt/anaconda3/lib/python3.12/site-packages/sklearn/ensemble/_weight_boosting.py:519: FutureWarning: The SAMME.R algorithm (the default) is deprecated and will be removed in 1.6. Use the SAMME algorithm to circumvent this warning.\n",
      "  warnings.warn(\n",
      "/opt/anaconda3/lib/python3.12/site-packages/sklearn/ensemble/_weight_boosting.py:519: FutureWarning: The SAMME.R algorithm (the default) is deprecated and will be removed in 1.6. Use the SAMME algorithm to circumvent this warning.\n",
      "  warnings.warn(\n",
      "/opt/anaconda3/lib/python3.12/site-packages/sklearn/ensemble/_weight_boosting.py:519: FutureWarning: The SAMME.R algorithm (the default) is deprecated and will be removed in 1.6. Use the SAMME algorithm to circumvent this warning.\n",
      "  warnings.warn(\n"
     ]
    },
    {
     "name": "stdout",
     "output_type": "stream",
     "text": [
      "accuracy:  0.37461546478518726\n",
      "f1_score:  0.0839091351740837\n",
      "Jaccard_index:  0.07444546974601957\n",
      "time (sec):  7.316228151321411\n",
      "\n",
      "\n",
      "ANN\n"
     ]
    },
    {
     "name": "stderr",
     "output_type": "stream",
     "text": [
      "/opt/anaconda3/lib/python3.12/site-packages/sklearn/neural_network/_multilayer_perceptron.py:691: ConvergenceWarning: Stochastic Optimizer: Maximum iterations (200) reached and the optimization hasn't converged yet.\n",
      "  warnings.warn(\n",
      "/opt/anaconda3/lib/python3.12/site-packages/sklearn/neural_network/_multilayer_perceptron.py:691: ConvergenceWarning: Stochastic Optimizer: Maximum iterations (200) reached and the optimization hasn't converged yet.\n",
      "  warnings.warn(\n",
      "/opt/anaconda3/lib/python3.12/site-packages/sklearn/neural_network/_multilayer_perceptron.py:691: ConvergenceWarning: Stochastic Optimizer: Maximum iterations (200) reached and the optimization hasn't converged yet.\n",
      "  warnings.warn(\n",
      "/opt/anaconda3/lib/python3.12/site-packages/sklearn/neural_network/_multilayer_perceptron.py:691: ConvergenceWarning: Stochastic Optimizer: Maximum iterations (200) reached and the optimization hasn't converged yet.\n",
      "  warnings.warn(\n",
      "/opt/anaconda3/lib/python3.12/site-packages/sklearn/neural_network/_multilayer_perceptron.py:691: ConvergenceWarning: Stochastic Optimizer: Maximum iterations (200) reached and the optimization hasn't converged yet.\n",
      "  warnings.warn(\n",
      "/opt/anaconda3/lib/python3.12/site-packages/sklearn/neural_network/_multilayer_perceptron.py:691: ConvergenceWarning: Stochastic Optimizer: Maximum iterations (200) reached and the optimization hasn't converged yet.\n",
      "  warnings.warn(\n",
      "/opt/anaconda3/lib/python3.12/site-packages/sklearn/neural_network/_multilayer_perceptron.py:691: ConvergenceWarning: Stochastic Optimizer: Maximum iterations (200) reached and the optimization hasn't converged yet.\n",
      "  warnings.warn(\n",
      "/opt/anaconda3/lib/python3.12/site-packages/sklearn/neural_network/_multilayer_perceptron.py:691: ConvergenceWarning: Stochastic Optimizer: Maximum iterations (200) reached and the optimization hasn't converged yet.\n",
      "  warnings.warn(\n",
      "/opt/anaconda3/lib/python3.12/site-packages/sklearn/neural_network/_multilayer_perceptron.py:691: ConvergenceWarning: Stochastic Optimizer: Maximum iterations (200) reached and the optimization hasn't converged yet.\n",
      "  warnings.warn(\n"
     ]
    },
    {
     "name": "stdout",
     "output_type": "stream",
     "text": [
      "accuracy:  0.5099509179291142\n",
      "f1_score:  0.3607363430863755\n",
      "Jaccard_index:  0.28704007750403915\n",
      "time (sec):  193.32166004180908\n",
      "\n",
      "\n"
     ]
    },
    {
     "name": "stderr",
     "output_type": "stream",
     "text": [
      "/opt/anaconda3/lib/python3.12/site-packages/sklearn/neural_network/_multilayer_perceptron.py:691: ConvergenceWarning: Stochastic Optimizer: Maximum iterations (200) reached and the optimization hasn't converged yet.\n",
      "  warnings.warn(\n"
     ]
    },
    {
     "data": {
      "text/html": [
       "<div>\n",
       "<style scoped>\n",
       "    .dataframe tbody tr th:only-of-type {\n",
       "        vertical-align: middle;\n",
       "    }\n",
       "\n",
       "    .dataframe tbody tr th {\n",
       "        vertical-align: top;\n",
       "    }\n",
       "\n",
       "    .dataframe thead th {\n",
       "        text-align: right;\n",
       "    }\n",
       "</style>\n",
       "<table border=\"1\" class=\"dataframe\">\n",
       "  <thead>\n",
       "    <tr style=\"text-align: right;\">\n",
       "      <th></th>\n",
       "      <th>Algorithm</th>\n",
       "      <th>BoW</th>\n",
       "      <th>BoWBi</th>\n",
       "      <th>BoWBi_time</th>\n",
       "    </tr>\n",
       "  </thead>\n",
       "  <tbody>\n",
       "    <tr>\n",
       "      <th>0</th>\n",
       "      <td>Gaussian NB</td>\n",
       "      <td></td>\n",
       "      <td>0.431219</td>\n",
       "      <td>15.617995</td>\n",
       "    </tr>\n",
       "    <tr>\n",
       "      <th>1</th>\n",
       "      <td>Multinomial NB</td>\n",
       "      <td></td>\n",
       "      <td>0.521452</td>\n",
       "      <td>0.941100</td>\n",
       "    </tr>\n",
       "    <tr>\n",
       "      <th>2</th>\n",
       "      <td>Decision Tree</td>\n",
       "      <td></td>\n",
       "      <td>0.495179</td>\n",
       "      <td>16.916599</td>\n",
       "    </tr>\n",
       "    <tr>\n",
       "      <th>3</th>\n",
       "      <td>SVM</td>\n",
       "      <td></td>\n",
       "      <td>0.530375</td>\n",
       "      <td>2.238423</td>\n",
       "    </tr>\n",
       "    <tr>\n",
       "      <th>4</th>\n",
       "      <td>AdaBoost</td>\n",
       "      <td></td>\n",
       "      <td>0.374615</td>\n",
       "      <td>7.316228</td>\n",
       "    </tr>\n",
       "    <tr>\n",
       "      <th>5</th>\n",
       "      <td>ANN</td>\n",
       "      <td></td>\n",
       "      <td>0.509951</td>\n",
       "      <td>193.321660</td>\n",
       "    </tr>\n",
       "  </tbody>\n",
       "</table>\n",
       "</div>"
      ],
      "text/plain": [
       "        Algorithm BoW     BoWBi  BoWBi_time\n",
       "0     Gaussian NB      0.431219   15.617995\n",
       "1  Multinomial NB      0.521452    0.941100\n",
       "2   Decision Tree      0.495179   16.916599\n",
       "3             SVM      0.530375    2.238423\n",
       "4        AdaBoost      0.374615    7.316228\n",
       "5             ANN      0.509951  193.321660"
      ]
     },
     "execution_count": 570,
     "metadata": {},
     "output_type": "execute_result"
    }
   ],
   "source": [
    "models = [GaussianNB(), MultinomialNB(), DecisionTreeClassifier(), LinearSVC(),\n",
    "          AdaBoostClassifier(n_estimators=5),  # No base_estimator here\n",
    "          MLPClassifier(hidden_layer_sizes=(10,))]\n",
    "\n",
    "names = [\"Gaussian NB\", \"Multinomial NB\", \"Decision Tree\", \"SVM\", \"AdaBoost\", \"ANN\"]\n",
    "\n",
    "jacc_scores = []\n",
    "acc_scores = []\n",
    "f1_scores = []\n",
    "exec_times = []\n",
    "\n",
    "for model, name in zip(models, names):\n",
    "    print(name)\n",
    "    start = time.time()\n",
    "    scoring = {\n",
    "        'accuracy': 'accuracy',\n",
    "        'f1_macro': 'f1_macro',\n",
    "        'jaccard_macro': 'jaccard_macro'\n",
    "    }\n",
    "    scores = cross_validate(model, X, y, cv=10, n_jobs=4, scoring=scoring)\n",
    "    training_time = (time.time() - start)\n",
    "    print(\"accuracy: \", scores['test_accuracy'].mean())\n",
    "    print(\"f1_score: \", scores['test_f1_macro'].mean())\n",
    "    print(\"Jaccard_index: \", scores['test_jaccard_macro'].mean())\n",
    "    print(\"time (sec): \", training_time)\n",
    "    print(\"\\n\")\n",
    "    \n",
    "    jacc_scores.append(scores['test_jaccard_macro'].mean())\n",
    "    acc_scores.append(scores['test_accuracy'].mean())\n",
    "    f1_scores.append(scores['test_f1_macro'].mean())\n",
    "    exec_times.append(training_time)\n",
    "    \n",
    "acc_df['BoWBi'] = acc_scores\n",
    "jacc_df['BoWBi'] = jacc_scores\n",
    "f1_df['BoWBi'] = f1_scores\n",
    "acc_df['BoWBi_time'] = exec_times\n",
    "acc_df\n"
   ]
  },
  {
   "cell_type": "code",
   "execution_count": 574,
   "id": "4d928f32-e85b-4a6c-baa3-ae225c7cf589",
   "metadata": {},
   "outputs": [],
   "source": [
    "# save the results\n",
    "acc_df.to_csv(\"accuracy.csv\", index=False)\n",
    "f1_df.to_csv(\"f1_score.csv\", index=False)\n",
    "jacc_df.to_csv(\"jacc_score.csv\", index=False)"
   ]
  },
  {
   "cell_type": "markdown",
   "id": "19be03ea-d9d4-421a-8c19-9ed4d7c95f5e",
   "metadata": {},
   "source": [
    "### 3. Tf-Idf (Term Frequency - Inverse Document Frequency)"
   ]
  },
  {
   "cell_type": "code",
   "execution_count": 554,
   "id": "f1fba35a-bb77-47b6-8821-cd2ab5af96ce",
   "metadata": {},
   "outputs": [
    {
     "name": "stdout",
     "output_type": "stream",
     "text": [
      "X.shape:  (10085, 5000)\n",
      "Execution time (sec):  0.4496009349822998\n"
     ]
    }
   ],
   "source": [
    "start = time.time()\n",
    "vectorizer = TfidfVectorizer(min_df=5, max_features=5000)\n",
    "X = vectorizer.fit_transform(input_data)\n",
    "\n",
    "X = X.toarray()\n",
    "print(\"X.shape: \",X.shape)\n",
    "\n",
    "end = time.time()\n",
    "print(\"Execution time (sec): \",(end - start))"
   ]
  },
  {
   "cell_type": "markdown",
   "id": "88a2bbd5-e6c1-46c0-824d-538561d9e14d",
   "metadata": {},
   "source": [
    "#### Training and Evaluation"
   ]
  },
  {
   "cell_type": "code",
   "execution_count": 576,
   "id": "9aefff3a-4029-40df-ba9f-b4ab414259e3",
   "metadata": {},
   "outputs": [
    {
     "name": "stdout",
     "output_type": "stream",
     "text": [
      "Gaussian NB\n",
      "accuracy:  0.4312191270627842\n",
      "f1_score:  0.30230527758300213\n",
      "Jaccard_index:  0.2228252155996596\n",
      "time (sec):  2.544232130050659\n",
      "\n",
      "\n",
      "Multinomial NB\n",
      "accuracy:  0.5214520702565797\n",
      "f1_score:  0.2512303539827826\n",
      "Jaccard_index:  0.2000250616473755\n",
      "time (sec):  0.8107409477233887\n",
      "\n",
      "\n",
      "Decision Tree\n",
      "accuracy:  0.49904490537543056\n",
      "f1_score:  0.3263219786522654\n",
      "Jaccard_index:  0.25456061328442436\n",
      "time (sec):  16.481796264648438\n",
      "\n",
      "\n",
      "SVM\n"
     ]
    },
    {
     "name": "stderr",
     "output_type": "stream",
     "text": [
      "/opt/anaconda3/lib/python3.12/site-packages/sklearn/svm/_classes.py:31: FutureWarning: The default value of `dual` will change from `True` to `'auto'` in 1.5. Set the value of `dual` explicitly to suppress the warning.\n",
      "  warnings.warn(\n",
      "/opt/anaconda3/lib/python3.12/site-packages/sklearn/svm/_classes.py:31: FutureWarning: The default value of `dual` will change from `True` to `'auto'` in 1.5. Set the value of `dual` explicitly to suppress the warning.\n",
      "  warnings.warn(\n",
      "/opt/anaconda3/lib/python3.12/site-packages/sklearn/svm/_classes.py:31: FutureWarning: The default value of `dual` will change from `True` to `'auto'` in 1.5. Set the value of `dual` explicitly to suppress the warning.\n",
      "  warnings.warn(\n",
      "/opt/anaconda3/lib/python3.12/site-packages/sklearn/svm/_classes.py:31: FutureWarning: The default value of `dual` will change from `True` to `'auto'` in 1.5. Set the value of `dual` explicitly to suppress the warning.\n",
      "  warnings.warn(\n",
      "/opt/anaconda3/lib/python3.12/site-packages/sklearn/svm/_classes.py:31: FutureWarning: The default value of `dual` will change from `True` to `'auto'` in 1.5. Set the value of `dual` explicitly to suppress the warning.\n",
      "  warnings.warn(\n",
      "/opt/anaconda3/lib/python3.12/site-packages/sklearn/svm/_classes.py:31: FutureWarning: The default value of `dual` will change from `True` to `'auto'` in 1.5. Set the value of `dual` explicitly to suppress the warning.\n",
      "  warnings.warn(\n",
      "/opt/anaconda3/lib/python3.12/site-packages/sklearn/svm/_classes.py:31: FutureWarning: The default value of `dual` will change from `True` to `'auto'` in 1.5. Set the value of `dual` explicitly to suppress the warning.\n",
      "  warnings.warn(\n",
      "/opt/anaconda3/lib/python3.12/site-packages/sklearn/svm/_classes.py:31: FutureWarning: The default value of `dual` will change from `True` to `'auto'` in 1.5. Set the value of `dual` explicitly to suppress the warning.\n",
      "  warnings.warn(\n",
      "/opt/anaconda3/lib/python3.12/site-packages/sklearn/svm/_classes.py:31: FutureWarning: The default value of `dual` will change from `True` to `'auto'` in 1.5. Set the value of `dual` explicitly to suppress the warning.\n",
      "  warnings.warn(\n",
      "/opt/anaconda3/lib/python3.12/site-packages/sklearn/svm/_classes.py:31: FutureWarning: The default value of `dual` will change from `True` to `'auto'` in 1.5. Set the value of `dual` explicitly to suppress the warning.\n",
      "  warnings.warn(\n"
     ]
    },
    {
     "name": "stdout",
     "output_type": "stream",
     "text": [
      "accuracy:  0.5303754306479778\n",
      "f1_score:  0.3693644140569221\n",
      "Jaccard_index:  0.295482450176062\n",
      "time (sec):  2.1898679733276367\n",
      "\n",
      "\n",
      "AdaBoost\n"
     ]
    },
    {
     "name": "stderr",
     "output_type": "stream",
     "text": [
      "/opt/anaconda3/lib/python3.12/site-packages/sklearn/ensemble/_weight_boosting.py:519: FutureWarning: The SAMME.R algorithm (the default) is deprecated and will be removed in 1.6. Use the SAMME algorithm to circumvent this warning.\n",
      "  warnings.warn(\n",
      "/opt/anaconda3/lib/python3.12/site-packages/sklearn/ensemble/_weight_boosting.py:519: FutureWarning: The SAMME.R algorithm (the default) is deprecated and will be removed in 1.6. Use the SAMME algorithm to circumvent this warning.\n",
      "  warnings.warn(\n",
      "/opt/anaconda3/lib/python3.12/site-packages/sklearn/ensemble/_weight_boosting.py:519: FutureWarning: The SAMME.R algorithm (the default) is deprecated and will be removed in 1.6. Use the SAMME algorithm to circumvent this warning.\n",
      "  warnings.warn(\n",
      "/opt/anaconda3/lib/python3.12/site-packages/sklearn/ensemble/_weight_boosting.py:519: FutureWarning: The SAMME.R algorithm (the default) is deprecated and will be removed in 1.6. Use the SAMME algorithm to circumvent this warning.\n",
      "  warnings.warn(\n",
      "/opt/anaconda3/lib/python3.12/site-packages/sklearn/ensemble/_weight_boosting.py:519: FutureWarning: The SAMME.R algorithm (the default) is deprecated and will be removed in 1.6. Use the SAMME algorithm to circumvent this warning.\n",
      "  warnings.warn(\n",
      "/opt/anaconda3/lib/python3.12/site-packages/sklearn/ensemble/_weight_boosting.py:519: FutureWarning: The SAMME.R algorithm (the default) is deprecated and will be removed in 1.6. Use the SAMME algorithm to circumvent this warning.\n",
      "  warnings.warn(\n",
      "/opt/anaconda3/lib/python3.12/site-packages/sklearn/ensemble/_weight_boosting.py:519: FutureWarning: The SAMME.R algorithm (the default) is deprecated and will be removed in 1.6. Use the SAMME algorithm to circumvent this warning.\n",
      "  warnings.warn(\n",
      "/opt/anaconda3/lib/python3.12/site-packages/sklearn/ensemble/_weight_boosting.py:519: FutureWarning: The SAMME.R algorithm (the default) is deprecated and will be removed in 1.6. Use the SAMME algorithm to circumvent this warning.\n",
      "  warnings.warn(\n",
      "/opt/anaconda3/lib/python3.12/site-packages/sklearn/ensemble/_weight_boosting.py:519: FutureWarning: The SAMME.R algorithm (the default) is deprecated and will be removed in 1.6. Use the SAMME algorithm to circumvent this warning.\n",
      "  warnings.warn(\n",
      "/opt/anaconda3/lib/python3.12/site-packages/sklearn/ensemble/_weight_boosting.py:519: FutureWarning: The SAMME.R algorithm (the default) is deprecated and will be removed in 1.6. Use the SAMME algorithm to circumvent this warning.\n",
      "  warnings.warn(\n"
     ]
    },
    {
     "name": "stdout",
     "output_type": "stream",
     "text": [
      "accuracy:  0.37461546478518726\n",
      "f1_score:  0.0839091351740837\n",
      "Jaccard_index:  0.07444546974601957\n",
      "time (sec):  7.087133884429932\n",
      "\n",
      "\n",
      "ANN\n"
     ]
    },
    {
     "name": "stderr",
     "output_type": "stream",
     "text": [
      "/opt/anaconda3/lib/python3.12/site-packages/sklearn/neural_network/_multilayer_perceptron.py:691: ConvergenceWarning: Stochastic Optimizer: Maximum iterations (200) reached and the optimization hasn't converged yet.\n",
      "  warnings.warn(\n",
      "/opt/anaconda3/lib/python3.12/site-packages/sklearn/neural_network/_multilayer_perceptron.py:691: ConvergenceWarning: Stochastic Optimizer: Maximum iterations (200) reached and the optimization hasn't converged yet.\n",
      "  warnings.warn(\n",
      "/opt/anaconda3/lib/python3.12/site-packages/sklearn/neural_network/_multilayer_perceptron.py:691: ConvergenceWarning: Stochastic Optimizer: Maximum iterations (200) reached and the optimization hasn't converged yet.\n",
      "  warnings.warn(\n",
      "/opt/anaconda3/lib/python3.12/site-packages/sklearn/neural_network/_multilayer_perceptron.py:691: ConvergenceWarning: Stochastic Optimizer: Maximum iterations (200) reached and the optimization hasn't converged yet.\n",
      "  warnings.warn(\n",
      "/opt/anaconda3/lib/python3.12/site-packages/sklearn/neural_network/_multilayer_perceptron.py:691: ConvergenceWarning: Stochastic Optimizer: Maximum iterations (200) reached and the optimization hasn't converged yet.\n",
      "  warnings.warn(\n",
      "/opt/anaconda3/lib/python3.12/site-packages/sklearn/neural_network/_multilayer_perceptron.py:691: ConvergenceWarning: Stochastic Optimizer: Maximum iterations (200) reached and the optimization hasn't converged yet.\n",
      "  warnings.warn(\n",
      "/opt/anaconda3/lib/python3.12/site-packages/sklearn/neural_network/_multilayer_perceptron.py:691: ConvergenceWarning: Stochastic Optimizer: Maximum iterations (200) reached and the optimization hasn't converged yet.\n",
      "  warnings.warn(\n",
      "/opt/anaconda3/lib/python3.12/site-packages/sklearn/neural_network/_multilayer_perceptron.py:691: ConvergenceWarning: Stochastic Optimizer: Maximum iterations (200) reached and the optimization hasn't converged yet.\n",
      "  warnings.warn(\n"
     ]
    },
    {
     "name": "stdout",
     "output_type": "stream",
     "text": [
      "accuracy:  0.5098515149369957\n",
      "f1_score:  0.359208927787868\n",
      "Jaccard_index:  0.28745119120780616\n",
      "time (sec):  275.8533272743225\n",
      "\n",
      "\n"
     ]
    },
    {
     "name": "stderr",
     "output_type": "stream",
     "text": [
      "/opt/anaconda3/lib/python3.12/site-packages/sklearn/neural_network/_multilayer_perceptron.py:691: ConvergenceWarning: Stochastic Optimizer: Maximum iterations (200) reached and the optimization hasn't converged yet.\n",
      "  warnings.warn(\n",
      "/opt/anaconda3/lib/python3.12/site-packages/sklearn/neural_network/_multilayer_perceptron.py:691: ConvergenceWarning: Stochastic Optimizer: Maximum iterations (200) reached and the optimization hasn't converged yet.\n",
      "  warnings.warn(\n"
     ]
    },
    {
     "data": {
      "text/html": [
       "<div>\n",
       "<style scoped>\n",
       "    .dataframe tbody tr th:only-of-type {\n",
       "        vertical-align: middle;\n",
       "    }\n",
       "\n",
       "    .dataframe tbody tr th {\n",
       "        vertical-align: top;\n",
       "    }\n",
       "\n",
       "    .dataframe thead th {\n",
       "        text-align: right;\n",
       "    }\n",
       "</style>\n",
       "<table border=\"1\" class=\"dataframe\">\n",
       "  <thead>\n",
       "    <tr style=\"text-align: right;\">\n",
       "      <th></th>\n",
       "      <th>Algorithm</th>\n",
       "      <th>BoW</th>\n",
       "      <th>BoWBi</th>\n",
       "      <th>BoWBi_time</th>\n",
       "      <th>TfIdf</th>\n",
       "      <th>TfIdf_time</th>\n",
       "    </tr>\n",
       "  </thead>\n",
       "  <tbody>\n",
       "    <tr>\n",
       "      <th>0</th>\n",
       "      <td>Gaussian NB</td>\n",
       "      <td></td>\n",
       "      <td>0.431219</td>\n",
       "      <td>15.617995</td>\n",
       "      <td>0.431219</td>\n",
       "      <td>2.544232</td>\n",
       "    </tr>\n",
       "    <tr>\n",
       "      <th>1</th>\n",
       "      <td>Multinomial NB</td>\n",
       "      <td></td>\n",
       "      <td>0.521452</td>\n",
       "      <td>0.941100</td>\n",
       "      <td>0.521452</td>\n",
       "      <td>0.810741</td>\n",
       "    </tr>\n",
       "    <tr>\n",
       "      <th>2</th>\n",
       "      <td>Decision Tree</td>\n",
       "      <td></td>\n",
       "      <td>0.495179</td>\n",
       "      <td>16.916599</td>\n",
       "      <td>0.499045</td>\n",
       "      <td>16.481796</td>\n",
       "    </tr>\n",
       "    <tr>\n",
       "      <th>3</th>\n",
       "      <td>SVM</td>\n",
       "      <td></td>\n",
       "      <td>0.530375</td>\n",
       "      <td>2.238423</td>\n",
       "      <td>0.530375</td>\n",
       "      <td>2.189868</td>\n",
       "    </tr>\n",
       "    <tr>\n",
       "      <th>4</th>\n",
       "      <td>AdaBoost</td>\n",
       "      <td></td>\n",
       "      <td>0.374615</td>\n",
       "      <td>7.316228</td>\n",
       "      <td>0.374615</td>\n",
       "      <td>7.087134</td>\n",
       "    </tr>\n",
       "    <tr>\n",
       "      <th>5</th>\n",
       "      <td>ANN</td>\n",
       "      <td></td>\n",
       "      <td>0.509951</td>\n",
       "      <td>193.321660</td>\n",
       "      <td>0.509852</td>\n",
       "      <td>275.853327</td>\n",
       "    </tr>\n",
       "  </tbody>\n",
       "</table>\n",
       "</div>"
      ],
      "text/plain": [
       "        Algorithm BoW     BoWBi  BoWBi_time     TfIdf  TfIdf_time\n",
       "0     Gaussian NB      0.431219   15.617995  0.431219    2.544232\n",
       "1  Multinomial NB      0.521452    0.941100  0.521452    0.810741\n",
       "2   Decision Tree      0.495179   16.916599  0.499045   16.481796\n",
       "3             SVM      0.530375    2.238423  0.530375    2.189868\n",
       "4        AdaBoost      0.374615    7.316228  0.374615    7.087134\n",
       "5             ANN      0.509951  193.321660  0.509852  275.853327"
      ]
     },
     "execution_count": 576,
     "metadata": {},
     "output_type": "execute_result"
    }
   ],
   "source": [
    "models = [GaussianNB(), MultinomialNB(), DecisionTreeClassifier(), LinearSVC(),\n",
    "          AdaBoostClassifier(n_estimators=5),  # No base_estimator here\n",
    "          MLPClassifier(hidden_layer_sizes=(10,))]\n",
    "\n",
    "names = [\"Gaussian NB\", \"Multinomial NB\", \"Decision Tree\", \"SVM\", \"AdaBoost\", \"ANN\"]\n",
    "\n",
    "jacc_scores = []\n",
    "acc_scores = []\n",
    "f1_scores = []\n",
    "exec_times = []\n",
    "\n",
    "for model, name in zip(models, names):\n",
    "    print(name)\n",
    "    start = time.time()\n",
    "    scoring = {\n",
    "        'accuracy': 'accuracy',\n",
    "        'f1_macro': 'f1_macro',\n",
    "        'jaccard_macro': 'jaccard_macro'\n",
    "    }\n",
    "    scores = cross_validate(model, X, y, cv=10, n_jobs=4, scoring=scoring)\n",
    "    training_time = (time.time() - start)\n",
    "    print(\"accuracy: \", scores['test_accuracy'].mean())\n",
    "    print(\"f1_score: \", scores['test_f1_macro'].mean())\n",
    "    print(\"Jaccard_index: \", scores['test_jaccard_macro'].mean())\n",
    "    print(\"time (sec): \", training_time)\n",
    "    print(\"\\n\")\n",
    "    \n",
    "    jacc_scores.append(scores['test_jaccard_macro'].mean())\n",
    "    acc_scores.append(scores['test_accuracy'].mean())\n",
    "    f1_scores.append(scores['test_f1_macro'].mean())\n",
    "    exec_times.append(training_time)\n",
    "\n",
    "# Update DataFrames with results\n",
    "acc_df['TfIdf'] = acc_scores\n",
    "jacc_df['TfIdf'] = jacc_scores\n",
    "f1_df['TfIdf'] = f1_scores\n",
    "acc_df['TfIdf_time'] = exec_times\n",
    "acc_df"
   ]
  },
  {
   "cell_type": "code",
   "execution_count": 582,
   "id": "21d85121-5d2e-41a7-bf89-d4a23da1d280",
   "metadata": {},
   "outputs": [],
   "source": [
    "# save the results\n",
    "acc_df.to_csv(\"accuracy.csv\", index=False)\n",
    "f1_df.to_csv(\"f1_score.csv\", index=False)\n",
    "jacc_df.to_csv(\"jacc_score.csv\", index=False)"
   ]
  },
  {
   "cell_type": "code",
   "execution_count": 609,
   "id": "9b6cee5a-52aa-4fa7-a3b6-8e52bdd78d09",
   "metadata": {},
   "outputs": [
    {
     "data": {
      "text/html": [
       "<div>\n",
       "<style scoped>\n",
       "    .dataframe tbody tr th:only-of-type {\n",
       "        vertical-align: middle;\n",
       "    }\n",
       "\n",
       "    .dataframe tbody tr th {\n",
       "        vertical-align: top;\n",
       "    }\n",
       "\n",
       "    .dataframe thead th {\n",
       "        text-align: right;\n",
       "    }\n",
       "</style>\n",
       "<table border=\"1\" class=\"dataframe\">\n",
       "  <thead>\n",
       "    <tr style=\"text-align: right;\">\n",
       "      <th></th>\n",
       "      <th>Algorithm</th>\n",
       "      <th>BoW</th>\n",
       "      <th>BoWBi</th>\n",
       "      <th>TfIdf</th>\n",
       "    </tr>\n",
       "  </thead>\n",
       "  <tbody>\n",
       "    <tr>\n",
       "      <th>0</th>\n",
       "      <td>Gaussian NB</td>\n",
       "      <td>0.222825</td>\n",
       "      <td>0.222825</td>\n",
       "      <td>0.222825</td>\n",
       "    </tr>\n",
       "    <tr>\n",
       "      <th>1</th>\n",
       "      <td>Multinomial NB</td>\n",
       "      <td>0.200025</td>\n",
       "      <td>0.200025</td>\n",
       "      <td>0.200025</td>\n",
       "    </tr>\n",
       "    <tr>\n",
       "      <th>2</th>\n",
       "      <td>Decision Tree</td>\n",
       "      <td>0.253782</td>\n",
       "      <td>0.251981</td>\n",
       "      <td>0.254561</td>\n",
       "    </tr>\n",
       "    <tr>\n",
       "      <th>3</th>\n",
       "      <td>SVM</td>\n",
       "      <td>0.295482</td>\n",
       "      <td>0.295482</td>\n",
       "      <td>0.295482</td>\n",
       "    </tr>\n",
       "    <tr>\n",
       "      <th>4</th>\n",
       "      <td>AdaBoost</td>\n",
       "      <td>0.074445</td>\n",
       "      <td>0.074445</td>\n",
       "      <td>0.074445</td>\n",
       "    </tr>\n",
       "    <tr>\n",
       "      <th>5</th>\n",
       "      <td>ANN</td>\n",
       "      <td>0.279432</td>\n",
       "      <td>0.287040</td>\n",
       "      <td>0.287451</td>\n",
       "    </tr>\n",
       "  </tbody>\n",
       "</table>\n",
       "</div>"
      ],
      "text/plain": [
       "        Algorithm       BoW     BoWBi     TfIdf\n",
       "0     Gaussian NB  0.222825  0.222825  0.222825\n",
       "1  Multinomial NB  0.200025  0.200025  0.200025\n",
       "2   Decision Tree  0.253782  0.251981  0.254561\n",
       "3             SVM  0.295482  0.295482  0.295482\n",
       "4        AdaBoost  0.074445  0.074445  0.074445\n",
       "5             ANN  0.279432  0.287040  0.287451"
      ]
     },
     "execution_count": 609,
     "metadata": {},
     "output_type": "execute_result"
    }
   ],
   "source": [
    "jacc_df"
   ]
  },
  {
   "cell_type": "markdown",
   "id": "5105a278-7261-481b-ac6f-b235acde4b81",
   "metadata": {},
   "source": [
    "### Interpretation of the results"
   ]
  },
  {
   "cell_type": "markdown",
   "id": "cd668dae-f948-464a-8bcc-fd47184e0a42",
   "metadata": {},
   "source": [
    "Die drei genutzten Text Strukturieungsmodelle ergeben folgende Resultate für die jeweiligen Machine Learning Modelle:"
   ]
  },
  {
   "cell_type": "markdown",
   "id": "b0d90e3c-0eb3-4cb7-a67b-92d759e0a908",
   "metadata": {},
   "source": [
    "1. **Gaussian Naive Bayes (NB)**:\n",
    "   - **Accuracy**: 43.12% (BoW), 43.12% (BoWBi), 43.12% (TfIdf)\n",
    "   - **Time**: 2.88 seconds (BoW), 2.54 seconds (TfIdf)\n",
    "   - **Interpretation**:Der Gaussian Naive Bayes-Klassifikator erzielt eine konstante Leistung über verschiedene Features hinweg mit einer moderaten Genauigkeit, jedoch ist er im Vergleich zu anderen Algorithmen ist er relativ schnell.\n",
    "\n",
    "2. **Multinomial Naive Bayes (NB)**:\n",
    "   - **Accuracy**: 52.15% (BoW), 52.15% (BoWBi), 52.15% (TfIdf)\n",
    "   - **Time**: 0.82 seconds (BoW), 0.81 seconds (TfIdf)\n",
    "   - **Interpretation**: Der Multinomial Naive Bayes-Klassifikator erreicht die höchste Genauigkeit unter den getesteten Algorithmen. Er ist auch am schnellsten in Bezug auf die Zeit.\n",
    "\n",
    "3. **Decision Tree**:\n",
    "   - **Accuracy**: 49.54% (BoW), 49.52% (BoWBi), 49.90% (TfIdf)\n",
    "   - **Time**: 16.67 seconds (BoW), 16.48 seconds (TfIdf)\n",
    "   - **Interpretation**: Der Entscheidungsbaum-Algorithmus hat eine solide Genauigkeit, ist jedoch in Bezug auf die Trainingszeit ziemlich langsam. Die Genauigkeit verbessert sich etwas mit TfIdf, aber die Leistung in Bezug auf die Zeit ist weiterhin relativ hoch.\n",
    "\n",
    "4. **Support Vector Machine (SVM)**:\n",
    "   - **Accuracy**: 53.04% (BoW), 53.04% (BoWBi), 53.04% (TfIdf)\n",
    "   - **Time**: 2.23 seconds (BoW), 2.19 seconds (TfIdf)\n",
    "   - **Interpretation**: SVM bietet die höchste Genauigkeit unter den getesteten Klassifikatoren, und seine Zeit ist besser als die von Decision Trees und ANN. Das deutet darauf hin, dass SVM effektiv und relativ effizient für dieses Dataset ist.\n",
    "\n",
    "5. **AdaBoost**:\n",
    "   - **Accuracy**: 37.46% (BoW), 37.46% (BoWBi), 37.46% (TfIdf)\n",
    "   - **Time**: 7.09 seconds (BoW), 7.09 seconds (TfIdf)\n",
    "   - **Interpretation**: AdaBoost weist die niedrigste Genauigkeit unter den Algorithmen auf und ist moderat schnell. Seine Leistung ist im Vergleich zu anderen daher weniger zufriedenstellend.\n",
    "\n",
    "6. **Artificial Neural Network (ANN)**:\n",
    "   - **Accuracy**: 50.89% (BoW), 50.99% (BoWBi), 50.99% (TfIdf)\n",
    "   - **Time**: 312.12 seconds (BoW), 275.85 seconds (TfIdf)\n",
    "   - **Interpretation**: ANN bietet eine ebenfalls solide Genauigkeit, erfordert jedoch erheblich mehr Zeit im Vergleich zu anderen Methoden. Das deutet darauf hin, dass es möglicherweise ein Overfitting vorherrscht oder der Trainingsprozess sehr komplex ist."
   ]
  },
  {
   "cell_type": "markdown",
   "id": "6067b844-d64b-4ea4-81ef-38fa0085ea30",
   "metadata": {},
   "source": [
    "**Zusammenfassung**:\n",
    "SVM erzielt die beste Genauigkeit mit 53,04%. Die beste Effizienz weist der Multinomial Naive Bayes-Klassifikator auf, der am schnellsten ist und eine Genauigkeit von 52,15% erreicht. AdaBoost hat die schlechteste Genauigkeit mit 37,46%. Die längste Trainingszeit benötigt das ANN, das über 275 Sekunden dauert.\n",
    "\n",
    "Basierend auf diesen Ergebnissen scheint SVM die ausgewogenste Option in Bezug auf Genauigkeit und Zeit-Effizienz zu sein, während das ANN, trotz guter Genauigkeit, deutlich langsamer ist."
   ]
  },
  {
   "cell_type": "markdown",
   "id": "20bc5f04-e306-4f6e-92fe-9b021fb3bc5b",
   "metadata": {},
   "source": [
    "### Limitations of the models"
   ]
  },
  {
   "cell_type": "markdown",
   "id": "fcff8421-c55c-4c50-b180-d39854b57d93",
   "metadata": {},
   "source": [
    "Insgesamt sind die Zahlen für alle Modelle nicht sonderlich hoch. Aufgrund des Zeitlimits der Aufgabe konnte ich weitere Methoden wie beispielsweise Gradient Boosting Machines (GBM), Techniken wie XGBoost oder LightGBM, Random Forests, k-Nearest Neighbors (k-NN), Extreme Gradient Boosting (XGBoost), LightGBM und CatBoost nicht zusätzlich testen. Mögliche Fehlerquellen sind die zufällige Auswahl von 20 Ordnern (vielleicht wäre es besser gewesen die top 20 Folder zu nehmen), eventuelle Fehler in der Datenverarbeitung oder ein mangelhafter Datensatz."
   ]
  },
  {
   "cell_type": "code",
   "execution_count": null,
   "id": "7f3bdc26-f6c1-4e15-83db-d7faf0665222",
   "metadata": {},
   "outputs": [],
   "source": []
  }
 ],
 "metadata": {
  "kernelspec": {
   "display_name": "Python 3 (ipykernel)",
   "language": "python",
   "name": "python3"
  },
  "language_info": {
   "codemirror_mode": {
    "name": "ipython",
    "version": 3
   },
   "file_extension": ".py",
   "mimetype": "text/x-python",
   "name": "python",
   "nbconvert_exporter": "python",
   "pygments_lexer": "ipython3",
   "version": "3.12.4"
  }
 },
 "nbformat": 4,
 "nbformat_minor": 5
}
